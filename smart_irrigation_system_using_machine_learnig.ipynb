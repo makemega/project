{
  "nbformat": 4,
  "nbformat_minor": 0,
  "metadata": {
    "colab": {
      "provenance": []
    },
    "kernelspec": {
      "name": "python3",
      "display_name": "Python 3"
    },
    "language_info": {
      "name": "python"
    }
  },
  "cells": [
    {
      "cell_type": "code",
      "execution_count": null,
      "metadata": {
        "id": "cKyMQs4xZWfq"
      },
      "outputs": [],
      "source": []
    },
    {
      "cell_type": "markdown",
      "source": [
        "**Smart Irrigation System using Machine Learning**\n",
        "This project focuses on building a smart irrigation system that leverages the power of machine learning to optimize watering schedules for plants. The system aims to provide more efficient and effective irrigation by taking into account various factors that influence a plant's water needs, such as weather conditions, soil moisture levels, and plant characteristics.\n",
        "\n",
        "**Data and Feature**s\n",
        "The system uses data gathered from multiple sources, including sensors that measure soil moisture and temperature, weather data obtained from online APIs, and potentially manual records of plant growth and watering history.\n",
        "\n",
        "This data is carefully processed and prepared for use in the machine learning model. This includes cleaning the data to handle missing values or inconsistencies, transforming variables to appropriate formats, and engineering new features that might be more informative for predicting watering needs. Examples of features used could include soil moisture levels, temperature, humidity, rainfall, plant type, and growth stage.\n",
        "\n",
        "**Model Development**\n",
        "A machine learning model is trained to predict the optimal watering frequency for plants based on the available data. The choice of model depends on the specific characteristics of the data and the desired outcome. For instance, if the goal is to predict watering frequency categories (e.g., daily, weekly, bi-weekly), a suitable model could be a Random Forest classifier or an Ordinal Logistic Regression model.\n",
        "\n",
        "The model is trained using a portion of the collected data, while the remaining data is used to evaluate its performance and ensure it can generalize well to new, unseen data. Techniques like cross-validation are employed to assess the model's robustness. The model's performance is measured using appropriate metrics, such as the macro-averaged F1-score, which reflects its ability to accurately predict different watering categories.\n",
        "\n",
        "**Deployment and Usage**\n",
        "Once the model is trained and evaluated, it can be deployed as part of a smart irrigation system. This could involve integrating the model with existing irrigation control systems or developing a standalone application (e.g., a web or mobile app) that allows users to interact with the model.\n",
        "\n",
        "The system could also incorporate notification mechanisms to alert users when it's time to irrigate or if there are any issues detected. These notifications could be delivered via email, SMS, or push notifications, depending on the chosen deployment method and user preferences.\n",
        "\n",
        "**Evaluation and Future Work**\n",
        "The project involves rigorous evaluation of the model's performance and identification of any potential limitations. Further improvements or extensions could include incorporating more data sources, exploring more advanced machine learning techniques, and refining the user interface and experience for easier interaction with the system.\n",
        "\n",
        "This smart irrigation system aims to promote more sustainable and efficient water usage in agriculture and gardening, while ensuring that plants receive the optimal amount of water they need to thrive.\n",
        "\n"
      ],
      "metadata": {
        "id": "-w-UA_vWZX3m"
      }
    },
    {
      "cell_type": "code",
      "source": [
        "import pandas as pd\n",
        "import numpy as np\n",
        "import matplotlib.pyplot as plt\n",
        "import seaborn as sns"
      ],
      "metadata": {
        "id": "ZgqmlQYsZbGR"
      },
      "execution_count": 1,
      "outputs": []
    },
    {
      "cell_type": "code",
      "source": [],
      "metadata": {
        "id": "8ZbByPyzdZeQ"
      },
      "execution_count": null,
      "outputs": []
    },
    {
      "source": [
        "import zipfile\n",
        "\n",
        "# Unzip the weather dataset\n",
        "with zipfile.ZipFile('weather_data.csv.zip', 'r') as zip_ref:\n",
        "  zip_ref.extractall()\n",
        "\n",
        "# Read the datasets into DataFrames with desired names\n",
        "weather = pd.read_csv('weather_data.csv')  # Assuming the unzipped file is named 'weather_data.csv'\n",
        "plant = pd.read_csv('plant_growth_data.csv')\n",
        "soil = pd.read_csv('soil_analysis_data.csv')\n",
        "\n",
        "# Now you can work with the DataFrames: weather, plant, and soil"
      ],
      "cell_type": "code",
      "metadata": {
        "id": "pmRZiRHteimV"
      },
      "execution_count": 3,
      "outputs": []
    },
    {
      "cell_type": "code",
      "source": [
        "weather.head()"
      ],
      "metadata": {
        "colab": {
          "base_uri": "https://localhost:8080/",
          "height": 293
        },
        "id": "6BQaCFg7epwX",
        "outputId": "42cd7987-c5f9-4dbf-fa3a-680d1ee3c3dd"
      },
      "execution_count": 4,
      "outputs": [
        {
          "output_type": "execute_result",
          "data": {
            "text/plain": [
              "       Location            Date_Time  Temperature_C  Humidity_pct  \\\n",
              "0     San Diego  2024-01-14 21:12:46      10.683001     41.195754   \n",
              "1     San Diego  2024-05-17 15:22:10       8.734140     58.319107   \n",
              "2     San Diego  2024-05-11 09:30:59      11.632436     38.820175   \n",
              "3  Philadelphia  2024-02-26 17:32:39      -8.628976     54.074474   \n",
              "4   San Antonio  2024-04-29 13:23:51      39.808213     72.899908   \n",
              "\n",
              "   Precipitation_mm  Wind_Speed_kmh  \n",
              "0          4.020119        8.233540  \n",
              "1          9.111623       27.715161  \n",
              "2          4.607511       28.732951  \n",
              "3          3.183720       26.367303  \n",
              "4          9.598282       29.898622  "
            ],
            "text/html": [
              "\n",
              "  <div id=\"df-2052d5f7-15f6-4598-9cb0-3ea08fde9677\" class=\"colab-df-container\">\n",
              "    <div>\n",
              "<style scoped>\n",
              "    .dataframe tbody tr th:only-of-type {\n",
              "        vertical-align: middle;\n",
              "    }\n",
              "\n",
              "    .dataframe tbody tr th {\n",
              "        vertical-align: top;\n",
              "    }\n",
              "\n",
              "    .dataframe thead th {\n",
              "        text-align: right;\n",
              "    }\n",
              "</style>\n",
              "<table border=\"1\" class=\"dataframe\">\n",
              "  <thead>\n",
              "    <tr style=\"text-align: right;\">\n",
              "      <th></th>\n",
              "      <th>Location</th>\n",
              "      <th>Date_Time</th>\n",
              "      <th>Temperature_C</th>\n",
              "      <th>Humidity_pct</th>\n",
              "      <th>Precipitation_mm</th>\n",
              "      <th>Wind_Speed_kmh</th>\n",
              "    </tr>\n",
              "  </thead>\n",
              "  <tbody>\n",
              "    <tr>\n",
              "      <th>0</th>\n",
              "      <td>San Diego</td>\n",
              "      <td>2024-01-14 21:12:46</td>\n",
              "      <td>10.683001</td>\n",
              "      <td>41.195754</td>\n",
              "      <td>4.020119</td>\n",
              "      <td>8.233540</td>\n",
              "    </tr>\n",
              "    <tr>\n",
              "      <th>1</th>\n",
              "      <td>San Diego</td>\n",
              "      <td>2024-05-17 15:22:10</td>\n",
              "      <td>8.734140</td>\n",
              "      <td>58.319107</td>\n",
              "      <td>9.111623</td>\n",
              "      <td>27.715161</td>\n",
              "    </tr>\n",
              "    <tr>\n",
              "      <th>2</th>\n",
              "      <td>San Diego</td>\n",
              "      <td>2024-05-11 09:30:59</td>\n",
              "      <td>11.632436</td>\n",
              "      <td>38.820175</td>\n",
              "      <td>4.607511</td>\n",
              "      <td>28.732951</td>\n",
              "    </tr>\n",
              "    <tr>\n",
              "      <th>3</th>\n",
              "      <td>Philadelphia</td>\n",
              "      <td>2024-02-26 17:32:39</td>\n",
              "      <td>-8.628976</td>\n",
              "      <td>54.074474</td>\n",
              "      <td>3.183720</td>\n",
              "      <td>26.367303</td>\n",
              "    </tr>\n",
              "    <tr>\n",
              "      <th>4</th>\n",
              "      <td>San Antonio</td>\n",
              "      <td>2024-04-29 13:23:51</td>\n",
              "      <td>39.808213</td>\n",
              "      <td>72.899908</td>\n",
              "      <td>9.598282</td>\n",
              "      <td>29.898622</td>\n",
              "    </tr>\n",
              "  </tbody>\n",
              "</table>\n",
              "</div>\n",
              "    <div class=\"colab-df-buttons\">\n",
              "\n",
              "  <div class=\"colab-df-container\">\n",
              "    <button class=\"colab-df-convert\" onclick=\"convertToInteractive('df-2052d5f7-15f6-4598-9cb0-3ea08fde9677')\"\n",
              "            title=\"Convert this dataframe to an interactive table.\"\n",
              "            style=\"display:none;\">\n",
              "\n",
              "  <svg xmlns=\"http://www.w3.org/2000/svg\" height=\"24px\" viewBox=\"0 -960 960 960\">\n",
              "    <path d=\"M120-120v-720h720v720H120Zm60-500h600v-160H180v160Zm220 220h160v-160H400v160Zm0 220h160v-160H400v160ZM180-400h160v-160H180v160Zm440 0h160v-160H620v160ZM180-180h160v-160H180v160Zm440 0h160v-160H620v160Z\"/>\n",
              "  </svg>\n",
              "    </button>\n",
              "\n",
              "  <style>\n",
              "    .colab-df-container {\n",
              "      display:flex;\n",
              "      gap: 12px;\n",
              "    }\n",
              "\n",
              "    .colab-df-convert {\n",
              "      background-color: #E8F0FE;\n",
              "      border: none;\n",
              "      border-radius: 50%;\n",
              "      cursor: pointer;\n",
              "      display: none;\n",
              "      fill: #1967D2;\n",
              "      height: 32px;\n",
              "      padding: 0 0 0 0;\n",
              "      width: 32px;\n",
              "    }\n",
              "\n",
              "    .colab-df-convert:hover {\n",
              "      background-color: #E2EBFA;\n",
              "      box-shadow: 0px 1px 2px rgba(60, 64, 67, 0.3), 0px 1px 3px 1px rgba(60, 64, 67, 0.15);\n",
              "      fill: #174EA6;\n",
              "    }\n",
              "\n",
              "    .colab-df-buttons div {\n",
              "      margin-bottom: 4px;\n",
              "    }\n",
              "\n",
              "    [theme=dark] .colab-df-convert {\n",
              "      background-color: #3B4455;\n",
              "      fill: #D2E3FC;\n",
              "    }\n",
              "\n",
              "    [theme=dark] .colab-df-convert:hover {\n",
              "      background-color: #434B5C;\n",
              "      box-shadow: 0px 1px 3px 1px rgba(0, 0, 0, 0.15);\n",
              "      filter: drop-shadow(0px 1px 2px rgba(0, 0, 0, 0.3));\n",
              "      fill: #FFFFFF;\n",
              "    }\n",
              "  </style>\n",
              "\n",
              "    <script>\n",
              "      const buttonEl =\n",
              "        document.querySelector('#df-2052d5f7-15f6-4598-9cb0-3ea08fde9677 button.colab-df-convert');\n",
              "      buttonEl.style.display =\n",
              "        google.colab.kernel.accessAllowed ? 'block' : 'none';\n",
              "\n",
              "      async function convertToInteractive(key) {\n",
              "        const element = document.querySelector('#df-2052d5f7-15f6-4598-9cb0-3ea08fde9677');\n",
              "        const dataTable =\n",
              "          await google.colab.kernel.invokeFunction('convertToInteractive',\n",
              "                                                    [key], {});\n",
              "        if (!dataTable) return;\n",
              "\n",
              "        const docLinkHtml = 'Like what you see? Visit the ' +\n",
              "          '<a target=\"_blank\" href=https://colab.research.google.com/notebooks/data_table.ipynb>data table notebook</a>'\n",
              "          + ' to learn more about interactive tables.';\n",
              "        element.innerHTML = '';\n",
              "        dataTable['output_type'] = 'display_data';\n",
              "        await google.colab.output.renderOutput(dataTable, element);\n",
              "        const docLink = document.createElement('div');\n",
              "        docLink.innerHTML = docLinkHtml;\n",
              "        element.appendChild(docLink);\n",
              "      }\n",
              "    </script>\n",
              "  </div>\n",
              "\n",
              "\n",
              "<div id=\"df-8f30954a-c44e-4bdd-a41b-2d0b872ed4cb\">\n",
              "  <button class=\"colab-df-quickchart\" onclick=\"quickchart('df-8f30954a-c44e-4bdd-a41b-2d0b872ed4cb')\"\n",
              "            title=\"Suggest charts\"\n",
              "            style=\"display:none;\">\n",
              "\n",
              "<svg xmlns=\"http://www.w3.org/2000/svg\" height=\"24px\"viewBox=\"0 0 24 24\"\n",
              "     width=\"24px\">\n",
              "    <g>\n",
              "        <path d=\"M19 3H5c-1.1 0-2 .9-2 2v14c0 1.1.9 2 2 2h14c1.1 0 2-.9 2-2V5c0-1.1-.9-2-2-2zM9 17H7v-7h2v7zm4 0h-2V7h2v10zm4 0h-2v-4h2v4z\"/>\n",
              "    </g>\n",
              "</svg>\n",
              "  </button>\n",
              "\n",
              "<style>\n",
              "  .colab-df-quickchart {\n",
              "      --bg-color: #E8F0FE;\n",
              "      --fill-color: #1967D2;\n",
              "      --hover-bg-color: #E2EBFA;\n",
              "      --hover-fill-color: #174EA6;\n",
              "      --disabled-fill-color: #AAA;\n",
              "      --disabled-bg-color: #DDD;\n",
              "  }\n",
              "\n",
              "  [theme=dark] .colab-df-quickchart {\n",
              "      --bg-color: #3B4455;\n",
              "      --fill-color: #D2E3FC;\n",
              "      --hover-bg-color: #434B5C;\n",
              "      --hover-fill-color: #FFFFFF;\n",
              "      --disabled-bg-color: #3B4455;\n",
              "      --disabled-fill-color: #666;\n",
              "  }\n",
              "\n",
              "  .colab-df-quickchart {\n",
              "    background-color: var(--bg-color);\n",
              "    border: none;\n",
              "    border-radius: 50%;\n",
              "    cursor: pointer;\n",
              "    display: none;\n",
              "    fill: var(--fill-color);\n",
              "    height: 32px;\n",
              "    padding: 0;\n",
              "    width: 32px;\n",
              "  }\n",
              "\n",
              "  .colab-df-quickchart:hover {\n",
              "    background-color: var(--hover-bg-color);\n",
              "    box-shadow: 0 1px 2px rgba(60, 64, 67, 0.3), 0 1px 3px 1px rgba(60, 64, 67, 0.15);\n",
              "    fill: var(--button-hover-fill-color);\n",
              "  }\n",
              "\n",
              "  .colab-df-quickchart-complete:disabled,\n",
              "  .colab-df-quickchart-complete:disabled:hover {\n",
              "    background-color: var(--disabled-bg-color);\n",
              "    fill: var(--disabled-fill-color);\n",
              "    box-shadow: none;\n",
              "  }\n",
              "\n",
              "  .colab-df-spinner {\n",
              "    border: 2px solid var(--fill-color);\n",
              "    border-color: transparent;\n",
              "    border-bottom-color: var(--fill-color);\n",
              "    animation:\n",
              "      spin 1s steps(1) infinite;\n",
              "  }\n",
              "\n",
              "  @keyframes spin {\n",
              "    0% {\n",
              "      border-color: transparent;\n",
              "      border-bottom-color: var(--fill-color);\n",
              "      border-left-color: var(--fill-color);\n",
              "    }\n",
              "    20% {\n",
              "      border-color: transparent;\n",
              "      border-left-color: var(--fill-color);\n",
              "      border-top-color: var(--fill-color);\n",
              "    }\n",
              "    30% {\n",
              "      border-color: transparent;\n",
              "      border-left-color: var(--fill-color);\n",
              "      border-top-color: var(--fill-color);\n",
              "      border-right-color: var(--fill-color);\n",
              "    }\n",
              "    40% {\n",
              "      border-color: transparent;\n",
              "      border-right-color: var(--fill-color);\n",
              "      border-top-color: var(--fill-color);\n",
              "    }\n",
              "    60% {\n",
              "      border-color: transparent;\n",
              "      border-right-color: var(--fill-color);\n",
              "    }\n",
              "    80% {\n",
              "      border-color: transparent;\n",
              "      border-right-color: var(--fill-color);\n",
              "      border-bottom-color: var(--fill-color);\n",
              "    }\n",
              "    90% {\n",
              "      border-color: transparent;\n",
              "      border-bottom-color: var(--fill-color);\n",
              "    }\n",
              "  }\n",
              "</style>\n",
              "\n",
              "  <script>\n",
              "    async function quickchart(key) {\n",
              "      const quickchartButtonEl =\n",
              "        document.querySelector('#' + key + ' button');\n",
              "      quickchartButtonEl.disabled = true;  // To prevent multiple clicks.\n",
              "      quickchartButtonEl.classList.add('colab-df-spinner');\n",
              "      try {\n",
              "        const charts = await google.colab.kernel.invokeFunction(\n",
              "            'suggestCharts', [key], {});\n",
              "      } catch (error) {\n",
              "        console.error('Error during call to suggestCharts:', error);\n",
              "      }\n",
              "      quickchartButtonEl.classList.remove('colab-df-spinner');\n",
              "      quickchartButtonEl.classList.add('colab-df-quickchart-complete');\n",
              "    }\n",
              "    (() => {\n",
              "      let quickchartButtonEl =\n",
              "        document.querySelector('#df-8f30954a-c44e-4bdd-a41b-2d0b872ed4cb button');\n",
              "      quickchartButtonEl.style.display =\n",
              "        google.colab.kernel.accessAllowed ? 'block' : 'none';\n",
              "    })();\n",
              "  </script>\n",
              "</div>\n",
              "\n",
              "    </div>\n",
              "  </div>\n"
            ],
            "application/vnd.google.colaboratory.intrinsic+json": {
              "type": "dataframe",
              "variable_name": "weather"
            }
          },
          "metadata": {},
          "execution_count": 4
        }
      ]
    },
    {
      "cell_type": "code",
      "source": [
        "plant.head()"
      ],
      "metadata": {
        "colab": {
          "base_uri": "https://localhost:8080/",
          "height": 226
        },
        "id": "p8jVwvcOfCGM",
        "outputId": "e4856c37-4a1f-422e-87c8-46d557bde6b8"
      },
      "execution_count": 5,
      "outputs": [
        {
          "output_type": "execute_result",
          "data": {
            "text/plain": [
              "  Soil_Type  Sunlight_Hours Water_Frequency Fertilizer_Type  Temperature  \\\n",
              "0      loam        5.192294       bi-weekly        chemical    31.719602   \n",
              "1     sandy        4.033133          weekly         organic    28.919484   \n",
              "2      loam        8.892769       bi-weekly            none    23.179059   \n",
              "3      loam        8.241144       bi-weekly            none    18.465886   \n",
              "4     sandy        8.374043       bi-weekly         organic    18.128741   \n",
              "\n",
              "    Humidity  Growth_Milestone  \n",
              "0  61.591861                 0  \n",
              "1  52.422276                 1  \n",
              "2  44.660539                 0  \n",
              "3  46.433227                 0  \n",
              "4  63.625923                 0  "
            ],
            "text/html": [
              "\n",
              "  <div id=\"df-96ad2d0b-6c89-4a63-8413-7fb4950f556f\" class=\"colab-df-container\">\n",
              "    <div>\n",
              "<style scoped>\n",
              "    .dataframe tbody tr th:only-of-type {\n",
              "        vertical-align: middle;\n",
              "    }\n",
              "\n",
              "    .dataframe tbody tr th {\n",
              "        vertical-align: top;\n",
              "    }\n",
              "\n",
              "    .dataframe thead th {\n",
              "        text-align: right;\n",
              "    }\n",
              "</style>\n",
              "<table border=\"1\" class=\"dataframe\">\n",
              "  <thead>\n",
              "    <tr style=\"text-align: right;\">\n",
              "      <th></th>\n",
              "      <th>Soil_Type</th>\n",
              "      <th>Sunlight_Hours</th>\n",
              "      <th>Water_Frequency</th>\n",
              "      <th>Fertilizer_Type</th>\n",
              "      <th>Temperature</th>\n",
              "      <th>Humidity</th>\n",
              "      <th>Growth_Milestone</th>\n",
              "    </tr>\n",
              "  </thead>\n",
              "  <tbody>\n",
              "    <tr>\n",
              "      <th>0</th>\n",
              "      <td>loam</td>\n",
              "      <td>5.192294</td>\n",
              "      <td>bi-weekly</td>\n",
              "      <td>chemical</td>\n",
              "      <td>31.719602</td>\n",
              "      <td>61.591861</td>\n",
              "      <td>0</td>\n",
              "    </tr>\n",
              "    <tr>\n",
              "      <th>1</th>\n",
              "      <td>sandy</td>\n",
              "      <td>4.033133</td>\n",
              "      <td>weekly</td>\n",
              "      <td>organic</td>\n",
              "      <td>28.919484</td>\n",
              "      <td>52.422276</td>\n",
              "      <td>1</td>\n",
              "    </tr>\n",
              "    <tr>\n",
              "      <th>2</th>\n",
              "      <td>loam</td>\n",
              "      <td>8.892769</td>\n",
              "      <td>bi-weekly</td>\n",
              "      <td>none</td>\n",
              "      <td>23.179059</td>\n",
              "      <td>44.660539</td>\n",
              "      <td>0</td>\n",
              "    </tr>\n",
              "    <tr>\n",
              "      <th>3</th>\n",
              "      <td>loam</td>\n",
              "      <td>8.241144</td>\n",
              "      <td>bi-weekly</td>\n",
              "      <td>none</td>\n",
              "      <td>18.465886</td>\n",
              "      <td>46.433227</td>\n",
              "      <td>0</td>\n",
              "    </tr>\n",
              "    <tr>\n",
              "      <th>4</th>\n",
              "      <td>sandy</td>\n",
              "      <td>8.374043</td>\n",
              "      <td>bi-weekly</td>\n",
              "      <td>organic</td>\n",
              "      <td>18.128741</td>\n",
              "      <td>63.625923</td>\n",
              "      <td>0</td>\n",
              "    </tr>\n",
              "  </tbody>\n",
              "</table>\n",
              "</div>\n",
              "    <div class=\"colab-df-buttons\">\n",
              "\n",
              "  <div class=\"colab-df-container\">\n",
              "    <button class=\"colab-df-convert\" onclick=\"convertToInteractive('df-96ad2d0b-6c89-4a63-8413-7fb4950f556f')\"\n",
              "            title=\"Convert this dataframe to an interactive table.\"\n",
              "            style=\"display:none;\">\n",
              "\n",
              "  <svg xmlns=\"http://www.w3.org/2000/svg\" height=\"24px\" viewBox=\"0 -960 960 960\">\n",
              "    <path d=\"M120-120v-720h720v720H120Zm60-500h600v-160H180v160Zm220 220h160v-160H400v160Zm0 220h160v-160H400v160ZM180-400h160v-160H180v160Zm440 0h160v-160H620v160ZM180-180h160v-160H180v160Zm440 0h160v-160H620v160Z\"/>\n",
              "  </svg>\n",
              "    </button>\n",
              "\n",
              "  <style>\n",
              "    .colab-df-container {\n",
              "      display:flex;\n",
              "      gap: 12px;\n",
              "    }\n",
              "\n",
              "    .colab-df-convert {\n",
              "      background-color: #E8F0FE;\n",
              "      border: none;\n",
              "      border-radius: 50%;\n",
              "      cursor: pointer;\n",
              "      display: none;\n",
              "      fill: #1967D2;\n",
              "      height: 32px;\n",
              "      padding: 0 0 0 0;\n",
              "      width: 32px;\n",
              "    }\n",
              "\n",
              "    .colab-df-convert:hover {\n",
              "      background-color: #E2EBFA;\n",
              "      box-shadow: 0px 1px 2px rgba(60, 64, 67, 0.3), 0px 1px 3px 1px rgba(60, 64, 67, 0.15);\n",
              "      fill: #174EA6;\n",
              "    }\n",
              "\n",
              "    .colab-df-buttons div {\n",
              "      margin-bottom: 4px;\n",
              "    }\n",
              "\n",
              "    [theme=dark] .colab-df-convert {\n",
              "      background-color: #3B4455;\n",
              "      fill: #D2E3FC;\n",
              "    }\n",
              "\n",
              "    [theme=dark] .colab-df-convert:hover {\n",
              "      background-color: #434B5C;\n",
              "      box-shadow: 0px 1px 3px 1px rgba(0, 0, 0, 0.15);\n",
              "      filter: drop-shadow(0px 1px 2px rgba(0, 0, 0, 0.3));\n",
              "      fill: #FFFFFF;\n",
              "    }\n",
              "  </style>\n",
              "\n",
              "    <script>\n",
              "      const buttonEl =\n",
              "        document.querySelector('#df-96ad2d0b-6c89-4a63-8413-7fb4950f556f button.colab-df-convert');\n",
              "      buttonEl.style.display =\n",
              "        google.colab.kernel.accessAllowed ? 'block' : 'none';\n",
              "\n",
              "      async function convertToInteractive(key) {\n",
              "        const element = document.querySelector('#df-96ad2d0b-6c89-4a63-8413-7fb4950f556f');\n",
              "        const dataTable =\n",
              "          await google.colab.kernel.invokeFunction('convertToInteractive',\n",
              "                                                    [key], {});\n",
              "        if (!dataTable) return;\n",
              "\n",
              "        const docLinkHtml = 'Like what you see? Visit the ' +\n",
              "          '<a target=\"_blank\" href=https://colab.research.google.com/notebooks/data_table.ipynb>data table notebook</a>'\n",
              "          + ' to learn more about interactive tables.';\n",
              "        element.innerHTML = '';\n",
              "        dataTable['output_type'] = 'display_data';\n",
              "        await google.colab.output.renderOutput(dataTable, element);\n",
              "        const docLink = document.createElement('div');\n",
              "        docLink.innerHTML = docLinkHtml;\n",
              "        element.appendChild(docLink);\n",
              "      }\n",
              "    </script>\n",
              "  </div>\n",
              "\n",
              "\n",
              "<div id=\"df-125ed4ed-6faa-4db0-a265-6651dfdbe37e\">\n",
              "  <button class=\"colab-df-quickchart\" onclick=\"quickchart('df-125ed4ed-6faa-4db0-a265-6651dfdbe37e')\"\n",
              "            title=\"Suggest charts\"\n",
              "            style=\"display:none;\">\n",
              "\n",
              "<svg xmlns=\"http://www.w3.org/2000/svg\" height=\"24px\"viewBox=\"0 0 24 24\"\n",
              "     width=\"24px\">\n",
              "    <g>\n",
              "        <path d=\"M19 3H5c-1.1 0-2 .9-2 2v14c0 1.1.9 2 2 2h14c1.1 0 2-.9 2-2V5c0-1.1-.9-2-2-2zM9 17H7v-7h2v7zm4 0h-2V7h2v10zm4 0h-2v-4h2v4z\"/>\n",
              "    </g>\n",
              "</svg>\n",
              "  </button>\n",
              "\n",
              "<style>\n",
              "  .colab-df-quickchart {\n",
              "      --bg-color: #E8F0FE;\n",
              "      --fill-color: #1967D2;\n",
              "      --hover-bg-color: #E2EBFA;\n",
              "      --hover-fill-color: #174EA6;\n",
              "      --disabled-fill-color: #AAA;\n",
              "      --disabled-bg-color: #DDD;\n",
              "  }\n",
              "\n",
              "  [theme=dark] .colab-df-quickchart {\n",
              "      --bg-color: #3B4455;\n",
              "      --fill-color: #D2E3FC;\n",
              "      --hover-bg-color: #434B5C;\n",
              "      --hover-fill-color: #FFFFFF;\n",
              "      --disabled-bg-color: #3B4455;\n",
              "      --disabled-fill-color: #666;\n",
              "  }\n",
              "\n",
              "  .colab-df-quickchart {\n",
              "    background-color: var(--bg-color);\n",
              "    border: none;\n",
              "    border-radius: 50%;\n",
              "    cursor: pointer;\n",
              "    display: none;\n",
              "    fill: var(--fill-color);\n",
              "    height: 32px;\n",
              "    padding: 0;\n",
              "    width: 32px;\n",
              "  }\n",
              "\n",
              "  .colab-df-quickchart:hover {\n",
              "    background-color: var(--hover-bg-color);\n",
              "    box-shadow: 0 1px 2px rgba(60, 64, 67, 0.3), 0 1px 3px 1px rgba(60, 64, 67, 0.15);\n",
              "    fill: var(--button-hover-fill-color);\n",
              "  }\n",
              "\n",
              "  .colab-df-quickchart-complete:disabled,\n",
              "  .colab-df-quickchart-complete:disabled:hover {\n",
              "    background-color: var(--disabled-bg-color);\n",
              "    fill: var(--disabled-fill-color);\n",
              "    box-shadow: none;\n",
              "  }\n",
              "\n",
              "  .colab-df-spinner {\n",
              "    border: 2px solid var(--fill-color);\n",
              "    border-color: transparent;\n",
              "    border-bottom-color: var(--fill-color);\n",
              "    animation:\n",
              "      spin 1s steps(1) infinite;\n",
              "  }\n",
              "\n",
              "  @keyframes spin {\n",
              "    0% {\n",
              "      border-color: transparent;\n",
              "      border-bottom-color: var(--fill-color);\n",
              "      border-left-color: var(--fill-color);\n",
              "    }\n",
              "    20% {\n",
              "      border-color: transparent;\n",
              "      border-left-color: var(--fill-color);\n",
              "      border-top-color: var(--fill-color);\n",
              "    }\n",
              "    30% {\n",
              "      border-color: transparent;\n",
              "      border-left-color: var(--fill-color);\n",
              "      border-top-color: var(--fill-color);\n",
              "      border-right-color: var(--fill-color);\n",
              "    }\n",
              "    40% {\n",
              "      border-color: transparent;\n",
              "      border-right-color: var(--fill-color);\n",
              "      border-top-color: var(--fill-color);\n",
              "    }\n",
              "    60% {\n",
              "      border-color: transparent;\n",
              "      border-right-color: var(--fill-color);\n",
              "    }\n",
              "    80% {\n",
              "      border-color: transparent;\n",
              "      border-right-color: var(--fill-color);\n",
              "      border-bottom-color: var(--fill-color);\n",
              "    }\n",
              "    90% {\n",
              "      border-color: transparent;\n",
              "      border-bottom-color: var(--fill-color);\n",
              "    }\n",
              "  }\n",
              "</style>\n",
              "\n",
              "  <script>\n",
              "    async function quickchart(key) {\n",
              "      const quickchartButtonEl =\n",
              "        document.querySelector('#' + key + ' button');\n",
              "      quickchartButtonEl.disabled = true;  // To prevent multiple clicks.\n",
              "      quickchartButtonEl.classList.add('colab-df-spinner');\n",
              "      try {\n",
              "        const charts = await google.colab.kernel.invokeFunction(\n",
              "            'suggestCharts', [key], {});\n",
              "      } catch (error) {\n",
              "        console.error('Error during call to suggestCharts:', error);\n",
              "      }\n",
              "      quickchartButtonEl.classList.remove('colab-df-spinner');\n",
              "      quickchartButtonEl.classList.add('colab-df-quickchart-complete');\n",
              "    }\n",
              "    (() => {\n",
              "      let quickchartButtonEl =\n",
              "        document.querySelector('#df-125ed4ed-6faa-4db0-a265-6651dfdbe37e button');\n",
              "      quickchartButtonEl.style.display =\n",
              "        google.colab.kernel.accessAllowed ? 'block' : 'none';\n",
              "    })();\n",
              "  </script>\n",
              "</div>\n",
              "\n",
              "    </div>\n",
              "  </div>\n"
            ],
            "application/vnd.google.colaboratory.intrinsic+json": {
              "type": "dataframe",
              "variable_name": "plant",
              "summary": "{\n  \"name\": \"plant\",\n  \"rows\": 193,\n  \"fields\": [\n    {\n      \"column\": \"Soil_Type\",\n      \"properties\": {\n        \"dtype\": \"category\",\n        \"num_unique_values\": 3,\n        \"samples\": [\n          \"loam\",\n          \"sandy\",\n          \"clay\"\n        ],\n        \"semantic_type\": \"\",\n        \"description\": \"\"\n      }\n    },\n    {\n      \"column\": \"Sunlight_Hours\",\n      \"properties\": {\n        \"dtype\": \"number\",\n        \"std\": 1.5995085200445003,\n        \"min\": 4.033132702741614,\n        \"max\": 9.913902724663604,\n        \"num_unique_values\": 190,\n        \"samples\": [\n          6.817,\n          7.289,\n          5.932\n        ],\n        \"semantic_type\": \"\",\n        \"description\": \"\"\n      }\n    },\n    {\n      \"column\": \"Water_Frequency\",\n      \"properties\": {\n        \"dtype\": \"category\",\n        \"num_unique_values\": 3,\n        \"samples\": [\n          \"bi-weekly\",\n          \"weekly\",\n          \"daily\"\n        ],\n        \"semantic_type\": \"\",\n        \"description\": \"\"\n      }\n    },\n    {\n      \"column\": \"Fertilizer_Type\",\n      \"properties\": {\n        \"dtype\": \"category\",\n        \"num_unique_values\": 3,\n        \"samples\": [\n          \"chemical\",\n          \"organic\",\n          \"none\"\n        ],\n        \"semantic_type\": \"\",\n        \"description\": \"\"\n      }\n    },\n    {\n      \"column\": \"Temperature\",\n      \"properties\": {\n        \"dtype\": \"number\",\n        \"std\": 5.354169908274035,\n        \"min\": 15.2,\n        \"max\": 34.81010284001347,\n        \"num_unique_values\": 189,\n        \"samples\": [\n          22.1,\n          20.2,\n          15.287869772595116\n        ],\n        \"semantic_type\": \"\",\n        \"description\": \"\"\n      }\n    },\n    {\n      \"column\": \"Humidity\",\n      \"properties\": {\n        \"dtype\": \"number\",\n        \"std\": 12.631798837872593,\n        \"min\": 30.567682238370956,\n        \"max\": 79.64823980596502,\n        \"num_unique_values\": 191,\n        \"samples\": [\n          50.8,\n          74.51318919454582,\n          57.2\n        ],\n        \"semantic_type\": \"\",\n        \"description\": \"\"\n      }\n    },\n    {\n      \"column\": \"Growth_Milestone\",\n      \"properties\": {\n        \"dtype\": \"number\",\n        \"std\": 0,\n        \"min\": 0,\n        \"max\": 1,\n        \"num_unique_values\": 2,\n        \"samples\": [\n          1,\n          0\n        ],\n        \"semantic_type\": \"\",\n        \"description\": \"\"\n      }\n    }\n  ]\n}"
            }
          },
          "metadata": {},
          "execution_count": 5
        }
      ]
    },
    {
      "cell_type": "code",
      "source": [
        "soil.head()"
      ],
      "metadata": {
        "colab": {
          "base_uri": "https://localhost:8080/",
          "height": 258
        },
        "id": "QVAiqp8rfFhg",
        "outputId": "afe46f36-4cc2-43d5-8213-f5de59cffc4d"
      },
      "execution_count": 6,
      "outputs": [
        {
          "output_type": "execute_result",
          "data": {
            "text/plain": [
              "   District            Soil Type  pH Level  Organic Matter (%)  \\\n",
              "0    Jaipur  Chalky (Calcareous)  6.546096            1.569807   \n",
              "1  Bhilwara          Nitrogenous  6.832259            2.243018   \n",
              "2   Jodhpur                Sandy  7.453182            2.662898   \n",
              "3    Jaipur                 Clay  8.019189            1.240327   \n",
              "4    Jaipur                Sandy  8.100131            1.768419   \n",
              "\n",
              "   Nitrogen Content (kg/ha)  Phosphorus Content (kg/ha)  \\\n",
              "0                 27.931972                   29.438438   \n",
              "1                 22.263480                   25.413455   \n",
              "2                 23.564182                   13.014409   \n",
              "3                 15.839222                   17.744206   \n",
              "4                 27.942867                   25.769504   \n",
              "\n",
              "   Potassium Content (kg/ha)  \n",
              "0                  42.782766  \n",
              "1                  37.644377  \n",
              "2                  37.082003  \n",
              "3                  42.758704  \n",
              "4                  30.651292  "
            ],
            "text/html": [
              "\n",
              "  <div id=\"df-47bf8c41-4643-4bdc-81cc-5be334b91801\" class=\"colab-df-container\">\n",
              "    <div>\n",
              "<style scoped>\n",
              "    .dataframe tbody tr th:only-of-type {\n",
              "        vertical-align: middle;\n",
              "    }\n",
              "\n",
              "    .dataframe tbody tr th {\n",
              "        vertical-align: top;\n",
              "    }\n",
              "\n",
              "    .dataframe thead th {\n",
              "        text-align: right;\n",
              "    }\n",
              "</style>\n",
              "<table border=\"1\" class=\"dataframe\">\n",
              "  <thead>\n",
              "    <tr style=\"text-align: right;\">\n",
              "      <th></th>\n",
              "      <th>District</th>\n",
              "      <th>Soil Type</th>\n",
              "      <th>pH Level</th>\n",
              "      <th>Organic Matter (%)</th>\n",
              "      <th>Nitrogen Content (kg/ha)</th>\n",
              "      <th>Phosphorus Content (kg/ha)</th>\n",
              "      <th>Potassium Content (kg/ha)</th>\n",
              "    </tr>\n",
              "  </thead>\n",
              "  <tbody>\n",
              "    <tr>\n",
              "      <th>0</th>\n",
              "      <td>Jaipur</td>\n",
              "      <td>Chalky (Calcareous)</td>\n",
              "      <td>6.546096</td>\n",
              "      <td>1.569807</td>\n",
              "      <td>27.931972</td>\n",
              "      <td>29.438438</td>\n",
              "      <td>42.782766</td>\n",
              "    </tr>\n",
              "    <tr>\n",
              "      <th>1</th>\n",
              "      <td>Bhilwara</td>\n",
              "      <td>Nitrogenous</td>\n",
              "      <td>6.832259</td>\n",
              "      <td>2.243018</td>\n",
              "      <td>22.263480</td>\n",
              "      <td>25.413455</td>\n",
              "      <td>37.644377</td>\n",
              "    </tr>\n",
              "    <tr>\n",
              "      <th>2</th>\n",
              "      <td>Jodhpur</td>\n",
              "      <td>Sandy</td>\n",
              "      <td>7.453182</td>\n",
              "      <td>2.662898</td>\n",
              "      <td>23.564182</td>\n",
              "      <td>13.014409</td>\n",
              "      <td>37.082003</td>\n",
              "    </tr>\n",
              "    <tr>\n",
              "      <th>3</th>\n",
              "      <td>Jaipur</td>\n",
              "      <td>Clay</td>\n",
              "      <td>8.019189</td>\n",
              "      <td>1.240327</td>\n",
              "      <td>15.839222</td>\n",
              "      <td>17.744206</td>\n",
              "      <td>42.758704</td>\n",
              "    </tr>\n",
              "    <tr>\n",
              "      <th>4</th>\n",
              "      <td>Jaipur</td>\n",
              "      <td>Sandy</td>\n",
              "      <td>8.100131</td>\n",
              "      <td>1.768419</td>\n",
              "      <td>27.942867</td>\n",
              "      <td>25.769504</td>\n",
              "      <td>30.651292</td>\n",
              "    </tr>\n",
              "  </tbody>\n",
              "</table>\n",
              "</div>\n",
              "    <div class=\"colab-df-buttons\">\n",
              "\n",
              "  <div class=\"colab-df-container\">\n",
              "    <button class=\"colab-df-convert\" onclick=\"convertToInteractive('df-47bf8c41-4643-4bdc-81cc-5be334b91801')\"\n",
              "            title=\"Convert this dataframe to an interactive table.\"\n",
              "            style=\"display:none;\">\n",
              "\n",
              "  <svg xmlns=\"http://www.w3.org/2000/svg\" height=\"24px\" viewBox=\"0 -960 960 960\">\n",
              "    <path d=\"M120-120v-720h720v720H120Zm60-500h600v-160H180v160Zm220 220h160v-160H400v160Zm0 220h160v-160H400v160ZM180-400h160v-160H180v160Zm440 0h160v-160H620v160ZM180-180h160v-160H180v160Zm440 0h160v-160H620v160Z\"/>\n",
              "  </svg>\n",
              "    </button>\n",
              "\n",
              "  <style>\n",
              "    .colab-df-container {\n",
              "      display:flex;\n",
              "      gap: 12px;\n",
              "    }\n",
              "\n",
              "    .colab-df-convert {\n",
              "      background-color: #E8F0FE;\n",
              "      border: none;\n",
              "      border-radius: 50%;\n",
              "      cursor: pointer;\n",
              "      display: none;\n",
              "      fill: #1967D2;\n",
              "      height: 32px;\n",
              "      padding: 0 0 0 0;\n",
              "      width: 32px;\n",
              "    }\n",
              "\n",
              "    .colab-df-convert:hover {\n",
              "      background-color: #E2EBFA;\n",
              "      box-shadow: 0px 1px 2px rgba(60, 64, 67, 0.3), 0px 1px 3px 1px rgba(60, 64, 67, 0.15);\n",
              "      fill: #174EA6;\n",
              "    }\n",
              "\n",
              "    .colab-df-buttons div {\n",
              "      margin-bottom: 4px;\n",
              "    }\n",
              "\n",
              "    [theme=dark] .colab-df-convert {\n",
              "      background-color: #3B4455;\n",
              "      fill: #D2E3FC;\n",
              "    }\n",
              "\n",
              "    [theme=dark] .colab-df-convert:hover {\n",
              "      background-color: #434B5C;\n",
              "      box-shadow: 0px 1px 3px 1px rgba(0, 0, 0, 0.15);\n",
              "      filter: drop-shadow(0px 1px 2px rgba(0, 0, 0, 0.3));\n",
              "      fill: #FFFFFF;\n",
              "    }\n",
              "  </style>\n",
              "\n",
              "    <script>\n",
              "      const buttonEl =\n",
              "        document.querySelector('#df-47bf8c41-4643-4bdc-81cc-5be334b91801 button.colab-df-convert');\n",
              "      buttonEl.style.display =\n",
              "        google.colab.kernel.accessAllowed ? 'block' : 'none';\n",
              "\n",
              "      async function convertToInteractive(key) {\n",
              "        const element = document.querySelector('#df-47bf8c41-4643-4bdc-81cc-5be334b91801');\n",
              "        const dataTable =\n",
              "          await google.colab.kernel.invokeFunction('convertToInteractive',\n",
              "                                                    [key], {});\n",
              "        if (!dataTable) return;\n",
              "\n",
              "        const docLinkHtml = 'Like what you see? Visit the ' +\n",
              "          '<a target=\"_blank\" href=https://colab.research.google.com/notebooks/data_table.ipynb>data table notebook</a>'\n",
              "          + ' to learn more about interactive tables.';\n",
              "        element.innerHTML = '';\n",
              "        dataTable['output_type'] = 'display_data';\n",
              "        await google.colab.output.renderOutput(dataTable, element);\n",
              "        const docLink = document.createElement('div');\n",
              "        docLink.innerHTML = docLinkHtml;\n",
              "        element.appendChild(docLink);\n",
              "      }\n",
              "    </script>\n",
              "  </div>\n",
              "\n",
              "\n",
              "<div id=\"df-f2dd36da-2953-4f53-91db-f34f307e4e6f\">\n",
              "  <button class=\"colab-df-quickchart\" onclick=\"quickchart('df-f2dd36da-2953-4f53-91db-f34f307e4e6f')\"\n",
              "            title=\"Suggest charts\"\n",
              "            style=\"display:none;\">\n",
              "\n",
              "<svg xmlns=\"http://www.w3.org/2000/svg\" height=\"24px\"viewBox=\"0 0 24 24\"\n",
              "     width=\"24px\">\n",
              "    <g>\n",
              "        <path d=\"M19 3H5c-1.1 0-2 .9-2 2v14c0 1.1.9 2 2 2h14c1.1 0 2-.9 2-2V5c0-1.1-.9-2-2-2zM9 17H7v-7h2v7zm4 0h-2V7h2v10zm4 0h-2v-4h2v4z\"/>\n",
              "    </g>\n",
              "</svg>\n",
              "  </button>\n",
              "\n",
              "<style>\n",
              "  .colab-df-quickchart {\n",
              "      --bg-color: #E8F0FE;\n",
              "      --fill-color: #1967D2;\n",
              "      --hover-bg-color: #E2EBFA;\n",
              "      --hover-fill-color: #174EA6;\n",
              "      --disabled-fill-color: #AAA;\n",
              "      --disabled-bg-color: #DDD;\n",
              "  }\n",
              "\n",
              "  [theme=dark] .colab-df-quickchart {\n",
              "      --bg-color: #3B4455;\n",
              "      --fill-color: #D2E3FC;\n",
              "      --hover-bg-color: #434B5C;\n",
              "      --hover-fill-color: #FFFFFF;\n",
              "      --disabled-bg-color: #3B4455;\n",
              "      --disabled-fill-color: #666;\n",
              "  }\n",
              "\n",
              "  .colab-df-quickchart {\n",
              "    background-color: var(--bg-color);\n",
              "    border: none;\n",
              "    border-radius: 50%;\n",
              "    cursor: pointer;\n",
              "    display: none;\n",
              "    fill: var(--fill-color);\n",
              "    height: 32px;\n",
              "    padding: 0;\n",
              "    width: 32px;\n",
              "  }\n",
              "\n",
              "  .colab-df-quickchart:hover {\n",
              "    background-color: var(--hover-bg-color);\n",
              "    box-shadow: 0 1px 2px rgba(60, 64, 67, 0.3), 0 1px 3px 1px rgba(60, 64, 67, 0.15);\n",
              "    fill: var(--button-hover-fill-color);\n",
              "  }\n",
              "\n",
              "  .colab-df-quickchart-complete:disabled,\n",
              "  .colab-df-quickchart-complete:disabled:hover {\n",
              "    background-color: var(--disabled-bg-color);\n",
              "    fill: var(--disabled-fill-color);\n",
              "    box-shadow: none;\n",
              "  }\n",
              "\n",
              "  .colab-df-spinner {\n",
              "    border: 2px solid var(--fill-color);\n",
              "    border-color: transparent;\n",
              "    border-bottom-color: var(--fill-color);\n",
              "    animation:\n",
              "      spin 1s steps(1) infinite;\n",
              "  }\n",
              "\n",
              "  @keyframes spin {\n",
              "    0% {\n",
              "      border-color: transparent;\n",
              "      border-bottom-color: var(--fill-color);\n",
              "      border-left-color: var(--fill-color);\n",
              "    }\n",
              "    20% {\n",
              "      border-color: transparent;\n",
              "      border-left-color: var(--fill-color);\n",
              "      border-top-color: var(--fill-color);\n",
              "    }\n",
              "    30% {\n",
              "      border-color: transparent;\n",
              "      border-left-color: var(--fill-color);\n",
              "      border-top-color: var(--fill-color);\n",
              "      border-right-color: var(--fill-color);\n",
              "    }\n",
              "    40% {\n",
              "      border-color: transparent;\n",
              "      border-right-color: var(--fill-color);\n",
              "      border-top-color: var(--fill-color);\n",
              "    }\n",
              "    60% {\n",
              "      border-color: transparent;\n",
              "      border-right-color: var(--fill-color);\n",
              "    }\n",
              "    80% {\n",
              "      border-color: transparent;\n",
              "      border-right-color: var(--fill-color);\n",
              "      border-bottom-color: var(--fill-color);\n",
              "    }\n",
              "    90% {\n",
              "      border-color: transparent;\n",
              "      border-bottom-color: var(--fill-color);\n",
              "    }\n",
              "  }\n",
              "</style>\n",
              "\n",
              "  <script>\n",
              "    async function quickchart(key) {\n",
              "      const quickchartButtonEl =\n",
              "        document.querySelector('#' + key + ' button');\n",
              "      quickchartButtonEl.disabled = true;  // To prevent multiple clicks.\n",
              "      quickchartButtonEl.classList.add('colab-df-spinner');\n",
              "      try {\n",
              "        const charts = await google.colab.kernel.invokeFunction(\n",
              "            'suggestCharts', [key], {});\n",
              "      } catch (error) {\n",
              "        console.error('Error during call to suggestCharts:', error);\n",
              "      }\n",
              "      quickchartButtonEl.classList.remove('colab-df-spinner');\n",
              "      quickchartButtonEl.classList.add('colab-df-quickchart-complete');\n",
              "    }\n",
              "    (() => {\n",
              "      let quickchartButtonEl =\n",
              "        document.querySelector('#df-f2dd36da-2953-4f53-91db-f34f307e4e6f button');\n",
              "      quickchartButtonEl.style.display =\n",
              "        google.colab.kernel.accessAllowed ? 'block' : 'none';\n",
              "    })();\n",
              "  </script>\n",
              "</div>\n",
              "\n",
              "    </div>\n",
              "  </div>\n"
            ],
            "application/vnd.google.colaboratory.intrinsic+json": {
              "type": "dataframe",
              "variable_name": "soil",
              "summary": "{\n  \"name\": \"soil\",\n  \"rows\": 1000,\n  \"fields\": [\n    {\n      \"column\": \"District\",\n      \"properties\": {\n        \"dtype\": \"category\",\n        \"num_unique_values\": 10,\n        \"samples\": [\n          \"Kota\",\n          \"Bhilwara\",\n          \"Udaipur\"\n        ],\n        \"semantic_type\": \"\",\n        \"description\": \"\"\n      }\n    },\n    {\n      \"column\": \"Soil Type\",\n      \"properties\": {\n        \"dtype\": \"category\",\n        \"num_unique_values\": 8,\n        \"samples\": [\n          \"Nitrogenous\",\n          \"Loamy\",\n          \"Chalky (Calcareous)\"\n        ],\n        \"semantic_type\": \"\",\n        \"description\": \"\"\n      }\n    },\n    {\n      \"column\": \"pH Level\",\n      \"properties\": {\n        \"dtype\": \"number\",\n        \"std\": 0.5171550691492046,\n        \"min\": 5.889491822007143,\n        \"max\": 9.038430185090252,\n        \"num_unique_values\": 1000,\n        \"samples\": [\n          7.61029176886868,\n          7.5716531525000015,\n          8.095545341573096\n        ],\n        \"semantic_type\": \"\",\n        \"description\": \"\"\n      }\n    },\n    {\n      \"column\": \"Organic Matter (%)\",\n      \"properties\": {\n        \"dtype\": \"number\",\n        \"std\": 0.5153401517562567,\n        \"min\": 0.1558173542857779,\n        \"max\": 3.764527593785242,\n        \"num_unique_values\": 1000,\n        \"samples\": [\n          1.3645241394538583,\n          1.74204734343383,\n          1.9265732393723496\n        ],\n        \"semantic_type\": \"\",\n        \"description\": \"\"\n      }\n    },\n    {\n      \"column\": \"Nitrogen Content (kg/ha)\",\n      \"properties\": {\n        \"dtype\": \"number\",\n        \"std\": 5.202697054149519,\n        \"min\": 11.994574477702413,\n        \"max\": 45.760283672560426,\n        \"num_unique_values\": 1000,\n        \"samples\": [\n          28.107101283934227,\n          25.37303871178522,\n          18.901110262740744\n        ],\n        \"semantic_type\": \"\",\n        \"description\": \"\"\n      }\n    },\n    {\n      \"column\": \"Phosphorus Content (kg/ha)\",\n      \"properties\": {\n        \"dtype\": \"number\",\n        \"std\": 5.067004785298072,\n        \"min\": 4.961838301531214,\n        \"max\": 35.58840564604024,\n        \"num_unique_values\": 1000,\n        \"samples\": [\n          24.49334580169587,\n          11.22281051344645,\n          13.001592476336567\n        ],\n        \"semantic_type\": \"\",\n        \"description\": \"\"\n      }\n    },\n    {\n      \"column\": \"Potassium Content (kg/ha)\",\n      \"properties\": {\n        \"dtype\": \"number\",\n        \"std\": 4.874751034236264,\n        \"min\": 24.11648093402,\n        \"max\": 54.678289511638894,\n        \"num_unique_values\": 1000,\n        \"samples\": [\n          40.18848286561961,\n          36.52425320961564,\n          38.75315187413759\n        ],\n        \"semantic_type\": \"\",\n        \"description\": \"\"\n      }\n    }\n  ]\n}"
            }
          },
          "metadata": {},
          "execution_count": 6
        }
      ]
    },
    {
      "cell_type": "code",
      "source": [
        "weather.info()"
      ],
      "metadata": {
        "colab": {
          "base_uri": "https://localhost:8080/"
        },
        "id": "GwF5IWxTfHcz",
        "outputId": "976c5c74-94dc-4b27-86dd-8708d9976aa1"
      },
      "execution_count": 7,
      "outputs": [
        {
          "output_type": "stream",
          "name": "stdout",
          "text": [
            "<class 'pandas.core.frame.DataFrame'>\n",
            "RangeIndex: 1000000 entries, 0 to 999999\n",
            "Data columns (total 6 columns):\n",
            " #   Column            Non-Null Count    Dtype  \n",
            "---  ------            --------------    -----  \n",
            " 0   Location          1000000 non-null  object \n",
            " 1   Date_Time         1000000 non-null  object \n",
            " 2   Temperature_C     1000000 non-null  float64\n",
            " 3   Humidity_pct      1000000 non-null  float64\n",
            " 4   Precipitation_mm  1000000 non-null  float64\n",
            " 5   Wind_Speed_kmh    1000000 non-null  float64\n",
            "dtypes: float64(4), object(2)\n",
            "memory usage: 45.8+ MB\n"
          ]
        }
      ]
    },
    {
      "source": [
        "# Convert 'Date_Time' to datetime objects\n",
        "weather['Date_Time'] = pd.to_datetime(weather['Date_Time'])\n",
        "\n",
        "# Check for inconsistencies in wind speed units (example: assuming km/h)\n",
        "# (Add code here if you need to convert units)\n",
        "\n",
        "# Explore relationships (example: scatter plot of temperature vs. wind speed)\n",
        "import matplotlib.pyplot as plt\n",
        "plt.scatter(weather['Temperature_C'], weather['Wind_Speed_kmh'])\n",
        "plt.xlabel('Temperature (°C)')\n",
        "plt.ylabel('Wind Speed (km/h)')\n",
        "plt.title('Temperature vs. Wind Speed')\n",
        "plt.show()"
      ],
      "cell_type": "code",
      "metadata": {
        "colab": {
          "base_uri": "https://localhost:8080/",
          "height": 472
        },
        "id": "5SfPGjiOgVAm",
        "outputId": "7b15ec61-7a90-4ef8-ebfe-6e1e6dfa801b"
      },
      "execution_count": 9,
      "outputs": [
        {
          "output_type": "display_data",
          "data": {
            "text/plain": [
              "<Figure size 640x480 with 1 Axes>"
            ],
            "image/png": "[encoded data removed]"
          },
          "metadata": {}
        }
      ]
    },
    {
      "cell_type": "code",
      "source": [
        "weather.dropna(inplace=True)"
      ],
      "metadata": {
        "id": "0aJAXGs5fLpA"
      },
      "execution_count": 8,
      "outputs": []
    },
    {
      "cell_type": "code",
      "source": [
        "plant.info()"
      ],
      "metadata": {
        "colab": {
          "base_uri": "https://localhost:8080/"
        },
        "id": "8ERh_VodfrP1",
        "outputId": "72536fbc-337c-402b-dfeb-06f76db0745d"
      },
      "execution_count": 10,
      "outputs": [
        {
          "output_type": "stream",
          "name": "stdout",
          "text": [
            "<class 'pandas.core.frame.DataFrame'>\n",
            "RangeIndex: 193 entries, 0 to 192\n",
            "Data columns (total 7 columns):\n",
            " #   Column            Non-Null Count  Dtype  \n",
            "---  ------            --------------  -----  \n",
            " 0   Soil_Type         193 non-null    object \n",
            " 1   Sunlight_Hours    193 non-null    float64\n",
            " 2   Water_Frequency   193 non-null    object \n",
            " 3   Fertilizer_Type   193 non-null    object \n",
            " 4   Temperature       193 non-null    float64\n",
            " 5   Humidity          193 non-null    float64\n",
            " 6   Growth_Milestone  193 non-null    int64  \n",
            "dtypes: float64(3), int64(1), object(3)\n",
            "memory usage: 10.7+ KB\n"
          ]
        }
      ]
    },
    {
      "cell_type": "code",
      "source": [],
      "metadata": {
        "id": "LwIZmhpqgjjZ"
      },
      "execution_count": null,
      "outputs": []
    },
    {
      "cell_type": "code",
      "source": [],
      "metadata": {
        "id": "qW1aUKcPhIaE"
      },
      "execution_count": null,
      "outputs": []
    },
    {
      "source": [
        "# 1. Examine the data structure\n",
        "print(plant.head())\n",
        "print(plant.info())\n",
        "print(plant.describe())\n",
        "\n",
        "# 2. Handle missing values (example: remove rows with missing values in any column)\n",
        "plant.dropna(inplace=True)\n",
        "\n",
        "# 3. Check for inconsistencies\n",
        "plant['Sunlight_Hours'] = plant['Sunlight_Hours'].apply(lambda x: x/60 if x > 24 else x)\n",
        "plant['Fertilizer_Type'] = plant['Fertilizer_Type'].str.lower()\n",
        "plant['Temperature'] = plant['Temperature'].apply(lambda x: np.nan if x < 0 else x)\n",
        "\n",
        "# 4. Visualize data (example: scatter plot of Sunlight_Hours vs. Water_Frequency)\n",
        "plt.scatter(plant['Sunlight_Hours'], plant['Water_Frequency'])\n",
        "plt.xlabel('Sunlight Hours')\n",
        "plt.ylabel('Water Frequency')\n",
        "plt.title('Sunlight Hours vs. Water Frequency')\n",
        "plt.show()\n",
        "\n",
        "# 5. Feature scaling (example: standardize numerical features)\n",
        "from sklearn.preprocessing import StandardScaler\n",
        "scaler = StandardScaler()\n",
        "numerical_features = ['Sunlight_Hours', 'Temperature', 'Humidity']  # Add other numerical features\n",
        "plant[numerical_features] = scaler.fit_transform(plant[numerical_features])"
      ],
      "cell_type": "code",
      "metadata": {
        "colab": {
          "base_uri": "https://localhost:8080/",
          "height": 1000
        },
        "id": "lUQJN95MoDV6",
        "outputId": "bae81a38-d927-4fb7-a075-fe93a34b4c4f"
      },
      "execution_count": 14,
      "outputs": [
        {
          "output_type": "stream",
          "name": "stdout",
          "text": [
            "  Soil_Type  Sunlight_Hours Water_Frequency Fertilizer_Type  Temperature  \\\n",
            "0      loam        5.192294       bi-weekly        chemical    31.719602   \n",
            "1     sandy        4.033133          weekly         organic    28.919484   \n",
            "2      loam        8.892769       bi-weekly            none    23.179059   \n",
            "3      loam        8.241144       bi-weekly            none    18.465886   \n",
            "4     sandy        8.374043       bi-weekly         organic    18.128741   \n",
            "\n",
            "    Humidity  Growth_Milestone  \n",
            "0  61.591861                 0  \n",
            "1  52.422276                 1  \n",
            "2  44.660539                 0  \n",
            "3  46.433227                 0  \n",
            "4  63.625923                 0  \n",
            "<class 'pandas.core.frame.DataFrame'>\n",
            "RangeIndex: 193 entries, 0 to 192\n",
            "Data columns (total 7 columns):\n",
            " #   Column            Non-Null Count  Dtype  \n",
            "---  ------            --------------  -----  \n",
            " 0   Soil_Type         193 non-null    object \n",
            " 1   Sunlight_Hours    193 non-null    float64\n",
            " 2   Water_Frequency   193 non-null    object \n",
            " 3   Fertilizer_Type   193 non-null    object \n",
            " 4   Temperature       193 non-null    float64\n",
            " 5   Humidity          193 non-null    float64\n",
            " 6   Growth_Milestone  193 non-null    int64  \n",
            "dtypes: float64(3), int64(1), object(3)\n",
            "memory usage: 10.7+ KB\n",
            "None\n",
            "       Sunlight_Hours  Temperature    Humidity  Growth_Milestone\n",
            "count      193.000000   193.000000  193.000000        193.000000\n",
            "mean         6.826484    25.076087   58.098927          0.497409\n",
            "std          1.599509     5.354170   12.631799          0.501294\n",
            "min          4.033133    15.200000   30.567682          0.000000\n",
            "25%          5.477000    20.637095   49.300000          0.000000\n",
            "50%          6.833290    25.912336   59.182806          0.000000\n",
            "75%          8.241144    29.757938   69.100000          1.000000\n",
            "max          9.913903    34.810103   79.648240          1.000000\n"
          ]
        },
        {
          "output_type": "display_data",
          "data": {
            "text/plain": [
              "<Figure size 640x480 with 1 Axes>"
            ],
            "image/png": "[encoded data removed]"
          },
          "metadata": {}
        }
      ]
    },
    {
      "cell_type": "code",
      "source": [],
      "metadata": {
        "id": "6NpZDmG1oiAX"
      },
      "execution_count": null,
      "outputs": []
    },
    {
      "source": [
        "# 1. Examine the data structure\n",
        "print(soil.head())\n",
        "print(soil.info())\n",
        "print(soil.describe())\n",
        "# 2. Handle missing values (example: fill missing 'pH' values with the median)\n",
        "soil.dropna(inplace=True)\n",
        "# 3. Check for inconsistencies (example: standardize units for 'Nitrogen_level')\n",
        "# (Add code here to address inconsistencies, such as unit conversions)\n",
        "\n",
        "# 4. Visualize data (example: histogram of 'Organic_Matter_pct')\n",
        "plt.hist(soil['Organic Matter (%)'])\n",
        "plt.xlabel('Organic Matter (%)')\n",
        "plt.ylabel('Frequency')\n",
        "plt.title('Distribution of Organic Matter')\n",
        "plt.show()\n",
        "\n",
        "# 5. Feature scaling (example: normalize numerical features)\n",
        "from sklearn.preprocessing import MinMaxScaler\n",
        "scaler = MinMaxScaler()\n",
        "numerical_features = ['pH Level', 'Organic Matter (%)', 'Nitrogen Content (kg/ha)', 'Phosphorus Content (kg/ha)', 'Potassium Content (kg/ha)']  # Add other numerical features\n",
        "soil[numerical_features] = scaler.fit_transform(soil[numerical_features])"
      ],
      "cell_type": "code",
      "metadata": {
        "colab": {
          "base_uri": "https://localhost:8080/",
          "height": 1000
        },
        "id": "_ftVrholpEo4",
        "outputId": "a345c968-748e-4029-8287-fc4af202a185"
      },
      "execution_count": 22,
      "outputs": [
        {
          "output_type": "stream",
          "name": "stdout",
          "text": [
            "   District            Soil Type  pH Level  Organic Matter (%)  \\\n",
            "0    Jaipur  Chalky (Calcareous)  6.546096            1.569807   \n",
            "1  Bhilwara          Nitrogenous  6.832259            2.243018   \n",
            "2   Jodhpur                Sandy  7.453182            2.662898   \n",
            "3    Jaipur                 Clay  8.019189            1.240327   \n",
            "4    Jaipur                Sandy  8.100131            1.768419   \n",
            "\n",
            "   Nitrogen Content (kg/ha)  Phosphorus Content (kg/ha)  \\\n",
            "0                 27.931972                   29.438438   \n",
            "1                 22.263480                   25.413455   \n",
            "2                 23.564182                   13.014409   \n",
            "3                 15.839222                   17.744206   \n",
            "4                 27.942867                   25.769504   \n",
            "\n",
            "   Potassium Content (kg/ha)  \n",
            "0                  42.782766  \n",
            "1                  37.644377  \n",
            "2                  37.082003  \n",
            "3                  42.758704  \n",
            "4                  30.651292  \n",
            "<class 'pandas.core.frame.DataFrame'>\n",
            "RangeIndex: 1000 entries, 0 to 999\n",
            "Data columns (total 7 columns):\n",
            " #   Column                      Non-Null Count  Dtype  \n",
            "---  ------                      --------------  -----  \n",
            " 0   District                    1000 non-null   object \n",
            " 1   Soil Type                   1000 non-null   object \n",
            " 2   pH Level                    1000 non-null   float64\n",
            " 3   Organic Matter (%)          1000 non-null   float64\n",
            " 4   Nitrogen Content (kg/ha)    1000 non-null   float64\n",
            " 5   Phosphorus Content (kg/ha)  1000 non-null   float64\n",
            " 6   Potassium Content (kg/ha)   1000 non-null   float64\n",
            "dtypes: float64(5), object(2)\n",
            "memory usage: 54.8+ KB\n",
            "None\n",
            "          pH Level  Organic Matter (%)  Nitrogen Content (kg/ha)  \\\n",
            "count  1000.000000         1000.000000               1000.000000   \n",
            "mean      7.495453            1.993592                 29.883358   \n",
            "std       0.517155            0.515340                  5.202697   \n",
            "min       5.889492            0.155817                 11.994574   \n",
            "25%       7.157881            1.638911                 26.217325   \n",
            "50%       7.500129            1.981462                 29.822797   \n",
            "75%       7.846940            2.345688                 33.232056   \n",
            "max       9.038430            3.764528                 45.760284   \n",
            "\n",
            "       Phosphorus Content (kg/ha)  Potassium Content (kg/ha)  \n",
            "count                 1000.000000                1000.000000  \n",
            "mean                    19.729932                  39.877907  \n",
            "std                      5.067005                   4.874751  \n",
            "min                      4.961838                  24.116481  \n",
            "25%                     16.216471                  36.703917  \n",
            "50%                     19.913737                  39.796016  \n",
            "75%                     23.122285                  43.382039  \n",
            "max                     35.588406                  54.678290  \n"
          ]
        },
        {
          "output_type": "display_data",
          "data": {
            "text/plain": [
              "<Figure size 640x480 with 1 Axes>"
            ],
            "image/png": "[encoded data removed]"
          },
          "metadata": {}
        }
      ]
    },
    {
      "cell_type": "code",
      "source": [],
      "metadata": {
        "id": "SHgD-hWerpAo"
      },
      "execution_count": null,
      "outputs": []
    },
    {
      "cell_type": "markdown",
      "source": [
        "merging the datasets\n"
      ],
      "metadata": {
        "id": "j-sCdljYuIAU"
      }
    },
    {
      "source": [
        "# Rename the column in 'plant' to match 'soil'\n",
        "plant.rename(columns={'Soil_Type': 'Soil Type'}, inplace=True)\n",
        "\n",
        "# Merge the DataFrames\n",
        "merged_df = pd.merge(plant, soil, on='Soil Type', how='inner')"
      ],
      "cell_type": "code",
      "metadata": {
        "id": "5BHY4ZV1uADZ"
      },
      "execution_count": 23,
      "outputs": []
    },
    {
      "source": [
        "# Rename the 'District' column in 'merged_df' to 'Location'\n",
        "merged_df.rename(columns={'District': 'Location'}, inplace=True)\n",
        "\n",
        "# Merge 'merged_df' with 'weather' based on 'Location'\n",
        "final_df = pd.merge(merged_df, weather, on='Location', how='inner')"
      ],
      "cell_type": "code",
      "metadata": {
        "id": "4Np6zY1evr44"
      },
      "execution_count": 24,
      "outputs": []
    },
    {
      "cell_type": "markdown",
      "source": [
        "realised the merged dataset resulted in an empty dataset\n"
      ],
      "metadata": {
        "id": "6hFazHOq05PO"
      }
    },
    {
      "cell_type": "code",
      "source": [
        "print(merged_df.shape)"
      ],
      "metadata": {
        "colab": {
          "base_uri": "https://localhost:8080/"
        },
        "id": "2jRUuJqgvsbu",
        "outputId": "61ce3b2c-f171-46bf-831d-06dcfb786cf6"
      },
      "execution_count": 31,
      "outputs": [
        {
          "output_type": "stream",
          "name": "stdout",
          "text": [
            "(0, 13)\n"
          ]
        }
      ]
    },
    {
      "cell_type": "code",
      "source": [
        "print(weather.shape)"
      ],
      "metadata": {
        "colab": {
          "base_uri": "https://localhost:8080/"
        },
        "id": "ffKxc8kMxXeE",
        "outputId": "cbfcaee8-e735-4328-b53c-78b08d9bb502"
      },
      "execution_count": 33,
      "outputs": [
        {
          "output_type": "stream",
          "name": "stdout",
          "text": [
            "(1000000, 6)\n"
          ]
        }
      ]
    },
    {
      "cell_type": "code",
      "source": [
        "print(merged_df['Location'].unique())"
      ],
      "metadata": {
        "colab": {
          "base_uri": "https://localhost:8080/"
        },
        "id": "c5n4uZqJ0Qn9",
        "outputId": "27d53217-f185-4c08-befc-e80a81d85b68"
      },
      "execution_count": 34,
      "outputs": [
        {
          "output_type": "stream",
          "name": "stdout",
          "text": [
            "[]\n"
          ]
        }
      ]
    },
    {
      "cell_type": "code",
      "source": [
        "print(weather['Location'].unique())"
      ],
      "metadata": {
        "colab": {
          "base_uri": "https://localhost:8080/"
        },
        "id": "SpzigiIQ0Q7X",
        "outputId": "bbeec637-733c-4995-f342-a7691f039073"
      },
      "execution_count": 35,
      "outputs": [
        {
          "output_type": "stream",
          "name": "stdout",
          "text": [
            "['San Diego' 'Philadelphia' 'San Antonio' 'San Jose' 'New York' 'Houston'\n",
            " 'Dallas' 'Chicago' 'Los Angeles' 'Phoenix']\n"
          ]
        }
      ]
    },
    {
      "cell_type": "code",
      "source": [
        "print(final_df.head())"
      ],
      "metadata": {
        "colab": {
          "base_uri": "https://localhost:8080/"
        },
        "id": "lv3yDclF1Don",
        "outputId": "681d074a-e1d7-47f6-edcc-0752765a4f65"
      },
      "execution_count": 36,
      "outputs": [
        {
          "output_type": "stream",
          "name": "stdout",
          "text": [
            "Empty DataFrame\n",
            "Columns: [Soil Type, Sunlight_Hours, Water_Frequency, Fertilizer_Type, Temperature, Humidity, Growth_Milestone, pH Level, Organic Matter (%), Nitrogen Content (kg/ha), Phosphorus Content (kg/ha), Potassium Content (kg/ha), Location, Date_Time, Temperature_C, Humidity_pct, Precipitation_mm, Wind_Speed_kmh]\n",
            "Index: []\n"
          ]
        }
      ]
    },
    {
      "cell_type": "code",
      "source": [
        "print(plant.shape)"
      ],
      "metadata": {
        "colab": {
          "base_uri": "https://localhost:8080/"
        },
        "id": "rTdZJTdp1JKz",
        "outputId": "7dd9fd03-1f29-4a3e-e653-9ea465340d0a"
      },
      "execution_count": 37,
      "outputs": [
        {
          "output_type": "stream",
          "name": "stdout",
          "text": [
            "(193, 7)\n"
          ]
        }
      ]
    },
    {
      "cell_type": "code",
      "source": [
        "print(soil.shape)"
      ],
      "metadata": {
        "colab": {
          "base_uri": "https://localhost:8080/"
        },
        "id": "B2710DyB1S7h",
        "outputId": "45422e89-05d3-46ee-974d-75fa899b1404"
      },
      "execution_count": 38,
      "outputs": [
        {
          "output_type": "stream",
          "name": "stdout",
          "text": [
            "(1000, 7)\n"
          ]
        }
      ]
    },
    {
      "cell_type": "code",
      "source": [
        "print(plant['Soil Type'].unique())\n"
      ],
      "metadata": {
        "colab": {
          "base_uri": "https://localhost:8080/"
        },
        "id": "PMW1MIUI1I7m",
        "outputId": "08c1d614-006a-4017-f56d-3041fa05f6e6"
      },
      "execution_count": 40,
      "outputs": [
        {
          "output_type": "stream",
          "name": "stdout",
          "text": [
            "['loam' 'sandy' 'clay']\n"
          ]
        }
      ]
    },
    {
      "cell_type": "code",
      "source": [
        "print(soil['Soil Type'].unique())\n"
      ],
      "metadata": {
        "colab": {
          "base_uri": "https://localhost:8080/"
        },
        "id": "Ab-6ddFB1ItV",
        "outputId": "1e9762ff-94b5-48ac-b205-52a314fc427f"
      },
      "execution_count": 41,
      "outputs": [
        {
          "output_type": "stream",
          "name": "stdout",
          "text": [
            "['Chalky (Calcareous)' 'Nitrogenous' 'Sandy' 'Clay' 'Black lava soil'\n",
            " 'Loamy' 'Saline' 'Alkaline']\n"
          ]
        }
      ]
    },
    {
      "cell_type": "markdown",
      "source": [
        "the problem was the different cases used in plant and those used in soil"
      ],
      "metadata": {
        "id": "qcCB1j_12CpY"
      }
    },
    {
      "cell_type": "code",
      "source": [],
      "metadata": {
        "id": "eH68YdJb2BNz"
      },
      "execution_count": null,
      "outputs": []
    },
    {
      "source": [
        "plant['Soil Type'] = plant['Soil Type'].str.lower().str.strip()\n",
        "soil['Soil Type'] = soil['Soil Type'].str.lower().str.strip()"
      ],
      "cell_type": "code",
      "metadata": {
        "id": "QzBYo68y175m"
      },
      "execution_count": 43,
      "outputs": []
    },
    {
      "cell_type": "code",
      "source": [],
      "metadata": {
        "id": "VohxLoIH1DZE"
      },
      "execution_count": null,
      "outputs": []
    },
    {
      "source": [
        "# Standardize \"Soil Type\" values in 'plant'\n",
        "# this merging did not work\n",
        "plant['Soil Type'] = plant['Soil Type'].str.lower().str.strip()\n",
        "\n",
        "# Standardize \"Soil Type\" values in 'soil'\n",
        "soil['Soil Type'] = soil['Soil Type'].str.lower().str.strip()\n",
        "\n",
        "# Merge 'plant' and 'soil' based on 'Soil Type'\n",
        "merged_df = pd.merge(plant, soil, on='Soil Type', how='inner')\n",
        "\n",
        "# Rename 'District' to 'Location' in 'merged_df'\n",
        "merged_df.rename(columns={'District': 'Location'}, inplace=True)\n",
        "\n",
        "# Merge 'merged_df' with 'weather' based on 'Location'\n",
        "final_df = pd.merge(merged_df, weather, on='Location', how='inner')\n",
        "\n",
        "# Print the shape of 'final_df' to check if it's empty\n",
        "print(final_df.shape)"
      ],
      "cell_type": "code",
      "metadata": {
        "colab": {
          "base_uri": "https://localhost:8080/"
        },
        "id": "Z6F67pPq2VWz",
        "outputId": "d8f7be40-7a5f-48a1-c2d2-9b45f95262ab"
      },
      "execution_count": 47,
      "outputs": [
        {
          "output_type": "stream",
          "name": "stdout",
          "text": [
            "(0, 18)\n"
          ]
        }
      ]
    },
    {
      "source": [
        "# this merging worked\n",
        "final_df = pd.merge(merged_df, weather, on='Location', how='left')  # Keep all rows from 'merged_df'\n",
        "print(final_df.shape)"
      ],
      "cell_type": "code",
      "metadata": {
        "colab": {
          "base_uri": "https://localhost:8080/"
        },
        "id": "omUd663n20fX",
        "outputId": "692a1a37-c3d2-445f-be83-6bae69f5875a"
      },
      "execution_count": 48,
      "outputs": [
        {
          "output_type": "stream",
          "name": "stdout",
          "text": [
            "(16198, 18)\n"
          ]
        }
      ]
    },
    {
      "source": [
        "print(final_df.columns)"
      ],
      "cell_type": "code",
      "metadata": {
        "colab": {
          "base_uri": "https://localhost:8080/"
        },
        "id": "waYAmSHKxc7w",
        "outputId": "f5e40087-1bcc-4b66-b7cd-2a16fdaea461"
      },
      "execution_count": 56,
      "outputs": [
        {
          "output_type": "stream",
          "name": "stdout",
          "text": [
            "Index(['Soil Type', 'Sunlight_Hours', 'Water_Frequency', 'Fertilizer_Type',\n",
            "       'Temperature', 'Humidity', 'Growth_Milestone', 'Location', 'pH Level',\n",
            "       'Organic Matter (%)', 'Nitrogen Content (kg/ha)',\n",
            "       'Phosphorus Content (kg/ha)', 'Potassium Content (kg/ha)', 'Date_Time',\n",
            "       'Temperature_C', 'Humidity_pct', 'Precipitation_mm', 'Wind_Speed_kmh'],\n",
            "      dtype='object')\n"
          ]
        }
      ]
    },
    {
      "cell_type": "code",
      "source": [
        "print(final_df['Water_Frequency'].dtype)"
      ],
      "metadata": {
        "colab": {
          "base_uri": "https://localhost:8080/"
        },
        "id": "s_Py8gSg6aTm",
        "outputId": "4696e7b2-8717-4c55-c7a5-1fae14939024"
      },
      "execution_count": 60,
      "outputs": [
        {
          "output_type": "stream",
          "name": "stdout",
          "text": [
            "object\n"
          ]
        }
      ]
    },
    {
      "source": [
        "# Calculate frequency of each value\n",
        "freq = final_df['Water_Frequency'].value_counts(normalize=True)\n",
        "\n",
        "# Create a dictionary mapping values to their frequencies\n",
        "encoding_dict = freq.to_dict()\n",
        "\n",
        "# Apply the encoding to the column\n",
        "final_df['Water_Frequency_encoded'] = final_df['Water_Frequency'].map(encoding_dict)"
      ],
      "cell_type": "code",
      "metadata": {
        "id": "N-XCO2Js6uD1"
      },
      "execution_count": 62,
      "outputs": []
    },
    {
      "cell_type": "code",
      "source": [
        "print(final_df['Water_Frequency'].dtype)"
      ],
      "metadata": {
        "colab": {
          "base_uri": "https://localhost:8080/"
        },
        "id": "2DOJSMyr7M0J",
        "outputId": "16cb4a90-90f3-418c-99c5-acec612625c1"
      },
      "execution_count": 64,
      "outputs": [
        {
          "output_type": "stream",
          "name": "stdout",
          "text": [
            "object\n"
          ]
        }
      ]
    },
    {
      "source": [
        "final_df['Water_Frequency_encoded'] = final_df['Water_Frequency'].map(encoding_dict)"
      ],
      "cell_type": "code",
      "metadata": {
        "id": "u4Ua3Bsg7e9e"
      },
      "execution_count": 65,
      "outputs": []
    },
    {
      "source": [
        "final_df['Water_Frequency_encoded'] = pd.to_numeric(final_df['Water_Frequency_encoded'])"
      ],
      "cell_type": "code",
      "metadata": {
        "id": "4vbSkSuY7n4H"
      },
      "execution_count": 66,
      "outputs": []
    },
    {
      "cell_type": "code",
      "source": [
        "print(final_df['Water_Frequency'].dtype)"
      ],
      "metadata": {
        "colab": {
          "base_uri": "https://localhost:8080/"
        },
        "id": "YngMDoOi7xmB",
        "outputId": "1828ae30-62b1-4e4e-92d6-30082be5c2ce"
      },
      "execution_count": 67,
      "outputs": [
        {
          "output_type": "stream",
          "name": "stdout",
          "text": [
            "object\n"
          ]
        }
      ]
    },
    {
      "cell_type": "code",
      "source": [
        "print(final_df['Water_Frequency'].unique())"
      ],
      "metadata": {
        "colab": {
          "base_uri": "https://localhost:8080/"
        },
        "id": "6heKGr1w8Hec",
        "outputId": "bd098150-e579-4016-c1c9-d4cf5f2af254"
      },
      "execution_count": 68,
      "outputs": [
        {
          "output_type": "stream",
          "name": "stdout",
          "text": [
            "['weekly' 'bi-weekly' 'daily']\n"
          ]
        }
      ]
    },
    {
      "source": [
        "# Calculate frequency of each value\n",
        "freq = final_df['Water_Frequency'].value_counts(normalize=True)\n",
        "\n",
        "# Create a dictionary mapping values to their frequencies\n",
        "encoding_dict = freq.to_dict()\n",
        "\n",
        "# Apply the encoding to the column and create a new column\n",
        "final_df['Water_Frequency_encoded'] = final_df['Water_Frequency'].map(encoding_dict)\n",
        "\n",
        "# Convert the new column to numeric type\n",
        "final_df['Water_Frequency_encoded'] = pd.to_numeric(final_df['Water_Frequency_encoded'])\n",
        "\n",
        "# Print data type of the new column\n",
        "print(final_df['Water_Frequency_encoded'].dtype)"
      ],
      "cell_type": "code",
      "metadata": {
        "colab": {
          "base_uri": "https://localhost:8080/"
        },
        "id": "skVH5HWs8VaE",
        "outputId": "d9b5ce1a-3edd-4585-9e8d-b76be60368f4"
      },
      "execution_count": 69,
      "outputs": [
        {
          "output_type": "stream",
          "name": "stdout",
          "text": [
            "float64\n"
          ]
        }
      ]
    },
    {
      "source": [
        "# Calculate correlations with the target variable (assuming 'Water_Frequency')\n",
        "# Select only numerical features for correlation analysis\n",
        "numerical_features = final_df.select_dtypes(include=['number'])\n",
        "\n",
        "# Calculate correlations with the target variable (assuming 'Water_Frequency')\n",
        "correlations = numerical_features.corr()['Water_Frequency_encoded']\n",
        "# Remove the target variable from the selected features\n",
        "selected_features = correlations[abs(correlations) > 0.2].index.tolist()\n",
        "selected_features.remove('Water_Frequency_encoded')\n",
        "\n",
        "# Create a new DataFrame with selected features\n",
        "X = final_df[selected_features]"
      ],
      "cell_type": "code",
      "metadata": {
        "id": "cdv3Le-T3j7Z"
      },
      "execution_count": 72,
      "outputs": []
    },
    {
      "source": [
        "# Simplified Heat Index calculation (replace with a more accurate formula if needed)\n",
        "final_df['Heat_Index'] = (final_df['Temperature_C'] * 0.8) + \\\n",
        "                          (final_df['Humidity_pct'] * (final_df['Temperature_C'] - 14.4)) + 46.4\n",
        "\n",
        "# Print the correlation of 'Heat_Index' with 'Water_Frequency_encoded'\n",
        "print(final_df['Heat_Index'].corr(final_df['Water_Frequency_encoded']))"
      ],
      "cell_type": "code",
      "metadata": {
        "colab": {
          "base_uri": "https://localhost:8080/"
        },
        "id": "c08ToL4L9gOb",
        "outputId": "a352cddf-e879-4ab6-c24e-acad1dfd4c0d"
      },
      "execution_count": 73,
      "outputs": [
        {
          "output_type": "stream",
          "name": "stdout",
          "text": [
            "nan\n"
          ]
        }
      ]
    },
    {
      "cell_type": "code",
      "source": [],
      "metadata": {
        "id": "rnZcIdlfxzWJ"
      },
      "execution_count": null,
      "outputs": []
    },
    {
      "source": [
        "print(final_df['Heat_Index'].isnull().sum())\n",
        "print(final_df['Water_Frequency_encoded'].isnull().sum())\n"
      ],
      "cell_type": "code",
      "metadata": {
        "colab": {
          "base_uri": "https://localhost:8080/"
        },
        "id": "5XSZhGpm9yqb",
        "outputId": "5fe34ca9-602b-46ec-9348-d8ca3d46e390"
      },
      "execution_count": 75,
      "outputs": [
        {
          "output_type": "stream",
          "name": "stdout",
          "text": [
            "16198\n",
            "0\n"
          ]
        }
      ]
    },
    {
      "cell_type": "code",
      "source": [
        "print(final_df['Water_Frequency'].unique())\n"
      ],
      "metadata": {
        "colab": {
          "base_uri": "https://localhost:8080/"
        },
        "id": "RQ5Dw4yG9zBP",
        "outputId": "70ce1632-593b-41e4-e412-aa659eb0f30f"
      },
      "execution_count": 76,
      "outputs": [
        {
          "output_type": "stream",
          "name": "stdout",
          "text": [
            "['weekly' 'bi-weekly' 'daily']\n"
          ]
        }
      ]
    },
    {
      "cell_type": "code",
      "source": [
        "print(encoding_dict)"
      ],
      "metadata": {
        "colab": {
          "base_uri": "https://localhost:8080/"
        },
        "id": "Avuj8waq-K-C",
        "outputId": "c7f35535-8623-428e-c926-338075184f0a"
      },
      "execution_count": 78,
      "outputs": [
        {
          "output_type": "stream",
          "name": "stdout",
          "text": [
            "{'daily': 0.40529695024077045, 'weekly': 0.3491171749598716, 'bi-weekly': 0.24558587479935795}\n"
          ]
        }
      ]
    },
    {
      "cell_type": "code",
      "source": [
        "print(final_df['Water_Frequency_encoded'].unique())\n"
      ],
      "metadata": {
        "colab": {
          "base_uri": "https://localhost:8080/"
        },
        "id": "YFiTcDdP-OsB",
        "outputId": "d265ac3a-4595-4cd6-e563-675e4058a686"
      },
      "execution_count": 79,
      "outputs": [
        {
          "output_type": "stream",
          "name": "stdout",
          "text": [
            "[0.34911717 0.24558587 0.40529695]\n"
          ]
        }
      ]
    },
    {
      "source": [
        "# Create a dictionary for ordinal encoding\n",
        "encoding_dict = {'daily': 3, 'bi-weekly': 2, 'weekly': 1}\n",
        "\n",
        "# Apply the encoding to create a new column\n",
        "final_df['Water_Frequency_ordinal'] = final_df['Water_Frequency'].map(encoding_dict)\n",
        "\n",
        "# Calculate correlations with other numerical features\n",
        "numerical_features = final_df.select_dtypes(include=['number'])\n",
        "correlations = numerical_features.corr()['Water_Frequency_ordinal']\n",
        "\n",
        "# Print correlations\n",
        "print(correlations)"
      ],
      "cell_type": "code",
      "metadata": {
        "colab": {
          "base_uri": "https://localhost:8080/"
        },
        "id": "NIEHZr8s-1F6",
        "outputId": "8e1e2a3b-c661-4930-c533-8e7594091de5"
      },
      "execution_count": 80,
      "outputs": [
        {
          "output_type": "stream",
          "name": "stdout",
          "text": [
            "Sunlight_Hours               -0.132397\n",
            "Temperature                   0.080581\n",
            "Humidity                     -0.111504\n",
            "Growth_Milestone             -0.002837\n",
            "pH Level                      0.013873\n",
            "Organic Matter (%)           -0.033523\n",
            "Nitrogen Content (kg/ha)      0.016144\n",
            "Phosphorus Content (kg/ha)    0.022747\n",
            "Potassium Content (kg/ha)    -0.017422\n",
            "Temperature_C                      NaN\n",
            "Humidity_pct                       NaN\n",
            "Precipitation_mm                   NaN\n",
            "Wind_Speed_kmh                     NaN\n",
            "Water_Frequency_encoded       0.423168\n",
            "Heat_Index                         NaN\n",
            "Water_Frequency_ordinal       1.000000\n",
            "Name: Water_Frequency_ordinal, dtype: float64\n"
          ]
        }
      ]
    },
    {
      "cell_type": "code",
      "source": [
        "print(selected_features)"
      ],
      "metadata": {
        "colab": {
          "base_uri": "https://localhost:8080/"
        },
        "id": "_zxXHhbU_bF3",
        "outputId": "b9e110f3-411a-4a6b-ed2a-cfd7a70f6635"
      },
      "execution_count": 85,
      "outputs": [
        {
          "output_type": "stream",
          "name": "stdout",
          "text": [
            "[]\n"
          ]
        }
      ]
    },
    {
      "cell_type": "code",
      "source": [],
      "metadata": {
        "id": "Mw4MVlZ1_r9K"
      },
      "execution_count": null,
      "outputs": []
    },
    {
      "source": [
        "# Select features with absolute correlation above a threshold (e.g., 0.1)\n",
        "selected_features = correlations[abs(correlations) > 0.1].index.tolist()\n",
        "\n",
        "# Remove the target variable from selected features\n",
        "selected_features.remove('Water_Frequency_ordinal')\n",
        "\n",
        "# Print selected features\n",
        "print(selected_features)"
      ],
      "cell_type": "code",
      "metadata": {
        "colab": {
          "base_uri": "https://localhost:8080/"
        },
        "id": "hoXwABl5ACrN",
        "outputId": "f34d4d82-92bd-41e2-bbef-fb632d358c7f"
      },
      "execution_count": 86,
      "outputs": [
        {
          "output_type": "stream",
          "name": "stdout",
          "text": [
            "['Sunlight_Hours', 'Humidity', 'Water_Frequency_encoded']\n"
          ]
        }
      ]
    },
    {
      "cell_type": "code",
      "source": [
        "from sklearn.model_selection import train_test_split\n",
        "\n",
        "# Select your features (X) and target variable (y)\n",
        "X = final_df[selected_features]  # Use your selected features from previous steps\n",
        "y = final_df['Water_Frequency_ordinal']\n",
        "\n",
        "# Split data into training and testing sets (e.g., 80% train, 20% test)\n",
        "X_train, X_test, y_train, y_test = train_test_split(X, y, test_size=0.2, random_state=42)\n",
        "\n",
        "# Print the shapes of the resulting sets\n",
        "print(X_train.shape, X_test.shape, y_train.shape, y_test.shape)"
      ],
      "metadata": {
        "colab": {
          "base_uri": "https://localhost:8080/"
        },
        "id": "1YDwCgf_ADAm",
        "outputId": "24264987-6302-4203-fa53-2dffeaac13a2"
      },
      "execution_count": 87,
      "outputs": [
        {
          "output_type": "stream",
          "name": "stdout",
          "text": [
            "(12958, 3) (3240, 3) (12958,) (3240,)\n"
          ]
        }
      ]
    },
    {
      "source": [
        "import pandas as pd\n",
        "from sklearn.model_selection import train_test_split\n",
        "!pip install mord\n",
        "from mord import LogisticIT\n",
        "\n",
        "# ... (Assuming you have 'final_df', 'selected_features', etc.)\n",
        "\n",
        "# Select features and target variable\n",
        "X = final_df[selected_features]\n",
        "y = final_df['Water_Frequency_ordinal']\n",
        "\n",
        "# Split data into training and testing sets\n",
        "X_train, X_test, y_train, y_test = train_test_split(X, y, test_size=0.2, random_state=42)\n",
        "\n",
        "# Create and train the Ordinal Logistic Regression model\n",
        "model = LogisticIT()\n",
        "model.fit(X_train, y_train)\n",
        "\n",
        "# Make predictions on the testing set\n",
        "y_pred = model.predict(X_test)\n",
        "\n",
        "# Evaluate the model (example using mean absolute error)\n",
        "from sklearn.metrics import mean_absolute_error\n",
        "mae = mean_absolute_error(y_test, y_pred)\n",
        "print(f\"Mean Absolute Error: {mae}\")"
      ],
      "cell_type": "code",
      "metadata": {
        "colab": {
          "base_uri": "https://localhost:8080/"
        },
        "id": "zWypp91nBSZk",
        "outputId": "204cff83-7846-4754-d9b8-f9ad3b27048c"
      },
      "execution_count": 88,
      "outputs": [
        {
          "output_type": "stream",
          "name": "stdout",
          "text": [
            "Collecting mord\n",
            "  Downloading mord-0.7.tar.gz (8.6 kB)\n",
            "  Preparing metadata (setup.py) ... \u001b[?25l\u001b[?25hdone\n",
            "Building wheels for collected packages: mord\n",
            "  Building wheel for mord (setup.py) ... \u001b[?25l\u001b[?25hdone\n",
            "  Created wheel for mord: filename=mord-0.7-py3-none-any.whl size=9886 sha256=38fb6605cfb45af9f762e5966c49c02f11b1d50eb14cd776a1e7d37d17d48633\n",
            "  Stored in directory: /root/.cache/pip/wheels/77/00/19/3cea86fbfc737ec4acb515cd94497dcc33f943fa157548b96c\n",
            "Successfully built mord\n",
            "Installing collected packages: mord\n",
            "Successfully installed mord-0.7\n",
            "Mean Absolute Error: 0.8191358024691358\n"
          ]
        }
      ]
    },
    {
      "source": [
        "from sklearn.metrics import f1_score\n",
        "\n",
        "# Calculate macro-averaged F1-score\n",
        "f1 = f1_score(y_test, y_pred, average='macro')\n",
        "print(f\"Macro-averaged F1-score: {f1}\")"
      ],
      "cell_type": "code",
      "metadata": {
        "colab": {
          "base_uri": "https://localhost:8080/"
        },
        "id": "FW-2rZ8bBeaL",
        "outputId": "944739e9-4126-4153-b354-713231433889"
      },
      "execution_count": 89,
      "outputs": [
        {
          "output_type": "stream",
          "name": "stdout",
          "text": [
            "Macro-averaged F1-score: 0.3058483345448326\n"
          ]
        }
      ]
    },
    {
      "cell_type": "code",
      "source": [],
      "metadata": {
        "id": "f6yQnKPrAOd8"
      },
      "execution_count": null,
      "outputs": []
    },
    {
      "source": [
        "import pandas as pd\n",
        "from sklearn.model_selection import train_test_split, GridSearchCV\n",
        "!pip install mord\n",
        "from mord import LogisticIT\n",
        "from sklearn.metrics import f1_score\n",
        "\n",
        "# ... (Assuming you have 'final_df', 'selected_features', etc.)\n",
        "\n",
        "# Select features and target variable\n",
        "X = final_df[selected_features]\n",
        "y = final_df['Water_Frequency_ordinal']\n",
        "\n",
        "# Split data into training and testing sets\n",
        "X_train, X_test, y_train, y_test = train_test_split(X, y, test_size=0.2, random_state=42)\n",
        "\n",
        "# Create and train the Ordinal Logistic Regression model\n",
        "model = LogisticIT()\n",
        "\n",
        "# Define the parameter grid for hyperparameter tuning\n",
        "param_grid = {'alpha': [0.1, 1, 10]}  # Example parameter grid\n",
        "\n",
        "# Create a GridSearchCV object\n",
        "grid_search = GridSearchCV(model, param_grid, cv=5, scoring='f1_macro')\n",
        "\n",
        "# Fit the grid search to the training data\n",
        "grid_search.fit(X_train, y_train)\n",
        "\n",
        "# Get the best model and its score\n",
        "best_model = grid_search.best_estimator_\n",
        "best_score = grid_search.best_score_\n",
        "\n",
        "# Make predictions on the testing set using the best model\n",
        "y_pred = best_model.predict(X_test)\n",
        "\n",
        "# Evaluate the best model using macro-averaged F1-score\n",
        "f1 = f1_score(y_test, y_pred, average='macro')\n",
        "print(f\"Macro-averaged F1-score: {f1}\")"
      ],
      "cell_type": "code",
      "metadata": {
        "colab": {
          "base_uri": "https://localhost:8080/"
        },
        "id": "wxPhblyDCBWt",
        "outputId": "b2829303-4e79-4597-8541-90ad58e99bdd"
      },
      "execution_count": 91,
      "outputs": [
        {
          "output_type": "stream",
          "name": "stdout",
          "text": [
            "Requirement already satisfied: mord in /usr/local/lib/python3.10/dist-packages (0.7)\n",
            "Macro-averaged F1-score: 0.3374267775908269\n"
          ]
        }
      ]
    },
    {
      "source": [
        "import pandas as pd\n",
        "from sklearn.model_selection import train_test_split, RandomizedSearchCV\n",
        "!pip install mord\n",
        "from mord import LogisticIT\n",
        "from sklearn.metrics import f1_score\n",
        "from scipy.stats import uniform\n",
        "\n",
        "# ... (Assuming you have 'final_df', 'selected_features', etc.)\n",
        "\n",
        "# Select features and target variable\n",
        "X = final_df[selected_features]\n",
        "y = final_df['Water_Frequency_ordinal']\n",
        "\n",
        "# Split data into training and testing sets\n",
        "X_train, X_test, y_train, y_test = train_test_split(X, y, test_size=0.2, random_state=42)\n",
        "\n",
        "# Create the Ordinal Logistic Regression model\n",
        "model = LogisticIT()\n",
        "\n",
        "# Define the parameter distribution for randomized search\n",
        "param_dist = {'alpha': uniform(loc=0, scale=10)}  # Example distribution\n",
        "\n",
        "# Create a RandomizedSearchCV object\n",
        "random_search = RandomizedSearchCV(\n",
        "    model, param_distributions=param_dist, n_iter=10, cv=5, scoring='f1_macro', random_state=42\n",
        ")\n",
        "\n",
        "# Fit the randomized search to the training data\n",
        "random_search.fit(X_train, y_train)\n",
        "\n",
        "# Get the best model and its score\n",
        "best_model = random_search.best_estimator_\n",
        "best_score = random_search.best_score_\n",
        "\n",
        "# Make predictions on the testing set using the best model\n",
        "y_pred = best_model.predict(X_test)\n",
        "\n",
        "# Evaluate the best model using macro-averaged F1-score\n",
        "f1 = f1_score(y_test, y_pred, average='macro')\n",
        "print(f\"Macro-averaged F1-score: {f1}\")"
      ],
      "cell_type": "code",
      "metadata": {
        "colab": {
          "base_uri": "https://localhost:8080/"
        },
        "id": "i54fqb_lCV7J",
        "outputId": "9c1e28b9-87e1-43eb-db7c-87fa9bceea7a"
      },
      "execution_count": 92,
      "outputs": [
        {
          "output_type": "stream",
          "name": "stdout",
          "text": [
            "Requirement already satisfied: mord in /usr/local/lib/python3.10/dist-packages (0.7)\n",
            "Macro-averaged F1-score: 0.3382303427774558\n"
          ]
        }
      ]
    },
    {
      "source": [
        "import pandas as pd\n",
        "from sklearn.model_selection import train_test_split\n",
        "from sklearn.ensemble import RandomForestClassifier\n",
        "from sklearn.metrics import f1_score\n",
        "\n",
        "# ... (Assuming you have 'final_df', 'selected_features', etc.)\n",
        "\n",
        "# Select features and target variable\n",
        "X = final_df[selected_features]\n",
        "y = final_df['Water_Frequency_ordinal']\n",
        "\n",
        "# Split data into training and testing sets\n",
        "X_train, X_test, y_train, y_test = train_test_split(X, y, test_size=0.2, random_state=42)\n",
        "\n",
        "# Create a Random Forest Classifier\n",
        "model = RandomForestClassifier(random_state=42)\n",
        "\n",
        "# Train the model\n",
        "model.fit(X_train, y_train)\n",
        "\n",
        "# Make predictions on the testing set\n",
        "y_pred = model.predict(X_test)\n",
        "\n",
        "# Evaluate the model using macro-averaged F1-score\n",
        "f1 = f1_score(y_test, y_pred, average='macro')\n",
        "print(f\"Macro-averaged F1-score: {f1}\")"
      ],
      "cell_type": "code",
      "metadata": {
        "colab": {
          "base_uri": "https://localhost:8080/"
        },
        "id": "M7d-2e3oCpAW",
        "outputId": "a996cf90-1071-4a96-d530-4fdbb1d1468c"
      },
      "execution_count": 93,
      "outputs": [
        {
          "output_type": "stream",
          "name": "stdout",
          "text": [
            "Macro-averaged F1-score: 1.0\n"
          ]
        }
      ]
    },
    {
      "source": [
        "import pickle\n",
        "\n",
        "# Save the trained model to a file\n",
        "filename = 'irrigation_model.sav'\n",
        "pickle.dump(model, open(filename, 'wb'))"
      ],
      "cell_type": "code",
      "metadata": {
        "id": "l4b_auDlC9WY"
      },
      "execution_count": 94,
      "outputs": []
    },
    {
      "cell_type": "markdown",
      "source": [],
      "metadata": {
        "id": "nsdlTfAYBgSg"
      }
    },
    {
      "source": [
        "import requests\n",
        "\n",
        "def send_sms(to_number, message):\n",
        "  \"\"\"Sends an SMS using the Safaricom API.\n",
        "\n",
        "  Args:\n",
        "    to_number: The recipient's phone number.\n",
        "    message: The SMS message content.\n",
        "  \"\"\"\n",
        "\n",
        "  # Replace with your actual API credentials\n",
        "  access_token = 'your_access_token'\n",
        "  api_url = 'https://api.safaricom.co.ke/mpesa/sms/v1/send'\n",
        "\n",
        "  headers = {'Authorization': 'Bearer ' + access_token}\n",
        "  data = {\n",
        "      'ShortCode': 'your_shortcode',\n",
        "      'To': to_number,\n",
        "      'From': 'your_shortcode',\n",
        "      'Text': message,\n",
        "  }\n",
        "\n",
        "  response = requests.post(api_url, headers=headers, json=data)\n",
        "  print(response.json())\n",
        "\n",
        "# Example usage\n",
        "send_sms('+2547XXXXXXXX', 'Hello from your irrigation system!')"
      ],
      "cell_type": "code",
      "metadata": {
        "colab": {
          "base_uri": "https://localhost:8080/",
          "height": 408
        },
        "id": "cYlb4dhREMw3",
        "outputId": "43024841-cd17-456e-e821-06df6e2ca883"
      },
      "execution_count": 96,
      "outputs": [
        {
          "output_type": "error",
          "ename": "JSONDecodeError",
          "evalue": "Expecting value: line 1 column 1 (char 0)",
          "traceback": [
            "\u001b[0;31m---------------------------------------------------------------------------\u001b[0m",
            "\u001b[0;31mJSONDecodeError\u001b[0m                           Traceback (most recent call last)",
            "\u001b[0;32m/usr/local/lib/python3.10/dist-packages/requests/models.py\u001b[0m in \u001b[0;36mjson\u001b[0;34m(self, **kwargs)\u001b[0m\n\u001b[1;32m    973\u001b[0m         \u001b[0;32mtry\u001b[0m\u001b[0;34m:\u001b[0m\u001b[0;34m\u001b[0m\u001b[0;34m\u001b[0m\u001b[0m\n\u001b[0;32m--> 974\u001b[0;31m             \u001b[0;32mreturn\u001b[0m \u001b[0mcomplexjson\u001b[0m\u001b[0;34m.\u001b[0m\u001b[0mloads\u001b[0m\u001b[0;34m(\u001b[0m\u001b[0mself\u001b[0m\u001b[0;34m.\u001b[0m\u001b[0mtext\u001b[0m\u001b[0;34m,\u001b[0m \u001b[0;34m**\u001b[0m\u001b[0mkwargs\u001b[0m\u001b[0;34m)\u001b[0m\u001b[0;34m\u001b[0m\u001b[0;34m\u001b[0m\u001b[0m\n\u001b[0m\u001b[1;32m    975\u001b[0m         \u001b[0;32mexcept\u001b[0m \u001b[0mJSONDecodeError\u001b[0m \u001b[0;32mas\u001b[0m \u001b[0me\u001b[0m\u001b[0;34m:\u001b[0m\u001b[0;34m\u001b[0m\u001b[0;34m\u001b[0m\u001b[0m\n",
            "\u001b[0;32m/usr/lib/python3.10/json/__init__.py\u001b[0m in \u001b[0;36mloads\u001b[0;34m(s, cls, object_hook, parse_float, parse_int, parse_constant, object_pairs_hook, **kw)\u001b[0m\n\u001b[1;32m    345\u001b[0m             parse_constant is None and object_pairs_hook is None and not kw):\n\u001b[0;32m--> 346\u001b[0;31m         \u001b[0;32mreturn\u001b[0m \u001b[0m_default_decoder\u001b[0m\u001b[0;34m.\u001b[0m\u001b[0mdecode\u001b[0m\u001b[0;34m(\u001b[0m\u001b[0ms\u001b[0m\u001b[0;34m)\u001b[0m\u001b[0;34m\u001b[0m\u001b[0;34m\u001b[0m\u001b[0m\n\u001b[0m\u001b[1;32m    347\u001b[0m     \u001b[0;32mif\u001b[0m \u001b[0mcls\u001b[0m \u001b[0;32mis\u001b[0m \u001b[0;32mNone\u001b[0m\u001b[0;34m:\u001b[0m\u001b[0;34m\u001b[0m\u001b[0;34m\u001b[0m\u001b[0m\n",
            "\u001b[0;32m/usr/lib/python3.10/json/decoder.py\u001b[0m in \u001b[0;36mdecode\u001b[0;34m(self, s, _w)\u001b[0m\n\u001b[1;32m    336\u001b[0m         \"\"\"\n\u001b[0;32m--> 337\u001b[0;31m         \u001b[0mobj\u001b[0m\u001b[0;34m,\u001b[0m \u001b[0mend\u001b[0m \u001b[0;34m=\u001b[0m \u001b[0mself\u001b[0m\u001b[0;34m.\u001b[0m\u001b[0mraw_decode\u001b[0m\u001b[0;34m(\u001b[0m\u001b[0ms\u001b[0m\u001b[0;34m,\u001b[0m \u001b[0midx\u001b[0m\u001b[0;34m=\u001b[0m\u001b[0m_w\u001b[0m\u001b[0;34m(\u001b[0m\u001b[0ms\u001b[0m\u001b[0;34m,\u001b[0m \u001b[0;36m0\u001b[0m\u001b[0;34m)\u001b[0m\u001b[0;34m.\u001b[0m\u001b[0mend\u001b[0m\u001b[0;34m(\u001b[0m\u001b[0;34m)\u001b[0m\u001b[0;34m)\u001b[0m\u001b[0;34m\u001b[0m\u001b[0;34m\u001b[0m\u001b[0m\n\u001b[0m\u001b[1;32m    338\u001b[0m         \u001b[0mend\u001b[0m \u001b[0;34m=\u001b[0m \u001b[0m_w\u001b[0m\u001b[0;34m(\u001b[0m\u001b[0ms\u001b[0m\u001b[0;34m,\u001b[0m \u001b[0mend\u001b[0m\u001b[0;34m)\u001b[0m\u001b[0;34m.\u001b[0m\u001b[0mend\u001b[0m\u001b[0;34m(\u001b[0m\u001b[0;34m)\u001b[0m\u001b[0;34m\u001b[0m\u001b[0;34m\u001b[0m\u001b[0m\n",
            "\u001b[0;32m/usr/lib/python3.10/json/decoder.py\u001b[0m in \u001b[0;36mraw_decode\u001b[0;34m(self, s, idx)\u001b[0m\n\u001b[1;32m    354\u001b[0m         \u001b[0;32mexcept\u001b[0m \u001b[0mStopIteration\u001b[0m \u001b[0;32mas\u001b[0m \u001b[0merr\u001b[0m\u001b[0;34m:\u001b[0m\u001b[0;34m\u001b[0m\u001b[0;34m\u001b[0m\u001b[0m\n\u001b[0;32m--> 355\u001b[0;31m             \u001b[0;32mraise\u001b[0m \u001b[0mJSONDecodeError\u001b[0m\u001b[0;34m(\u001b[0m\u001b[0;34m\"Expecting value\"\u001b[0m\u001b[0;34m,\u001b[0m \u001b[0ms\u001b[0m\u001b[0;34m,\u001b[0m \u001b[0merr\u001b[0m\u001b[0;34m.\u001b[0m\u001b[0mvalue\u001b[0m\u001b[0;34m)\u001b[0m \u001b[0;32mfrom\u001b[0m \u001b[0;32mNone\u001b[0m\u001b[0;34m\u001b[0m\u001b[0;34m\u001b[0m\u001b[0m\n\u001b[0m\u001b[1;32m    356\u001b[0m         \u001b[0;32mreturn\u001b[0m \u001b[0mobj\u001b[0m\u001b[0;34m,\u001b[0m \u001b[0mend\u001b[0m\u001b[0;34m\u001b[0m\u001b[0;34m\u001b[0m\u001b[0m\n",
            "\u001b[0;31mJSONDecodeError\u001b[0m: Expecting value: line 1 column 1 (char 0)",
            "\nDuring handling of the above exception, another exception occurred:\n",
            "\u001b[0;31mJSONDecodeError\u001b[0m                           Traceback (most recent call last)",
            "\u001b[0;32m<ipython-input-96-e8bd012ca46b>\u001b[0m in \u001b[0;36m<cell line: 27>\u001b[0;34m()\u001b[0m\n\u001b[1;32m     25\u001b[0m \u001b[0;34m\u001b[0m\u001b[0m\n\u001b[1;32m     26\u001b[0m \u001b[0;31m# Example usage\u001b[0m\u001b[0;34m\u001b[0m\u001b[0;34m\u001b[0m\u001b[0m\n\u001b[0;32m---> 27\u001b[0;31m \u001b[0msend_sms\u001b[0m\u001b[0;34m(\u001b[0m\u001b[0;34m'+2547XXXXXXXX'\u001b[0m\u001b[0;34m,\u001b[0m \u001b[0;34m'Hello from your irrigation system!'\u001b[0m\u001b[0;34m)\u001b[0m\u001b[0;34m\u001b[0m\u001b[0;34m\u001b[0m\u001b[0m\n\u001b[0m",
            "\u001b[0;32m<ipython-input-96-e8bd012ca46b>\u001b[0m in \u001b[0;36msend_sms\u001b[0;34m(to_number, message)\u001b[0m\n\u001b[1;32m     22\u001b[0m \u001b[0;34m\u001b[0m\u001b[0m\n\u001b[1;32m     23\u001b[0m   \u001b[0mresponse\u001b[0m \u001b[0;34m=\u001b[0m \u001b[0mrequests\u001b[0m\u001b[0;34m.\u001b[0m\u001b[0mpost\u001b[0m\u001b[0;34m(\u001b[0m\u001b[0mapi_url\u001b[0m\u001b[0;34m,\u001b[0m \u001b[0mheaders\u001b[0m\u001b[0;34m=\u001b[0m\u001b[0mheaders\u001b[0m\u001b[0;34m,\u001b[0m \u001b[0mjson\u001b[0m\u001b[0;34m=\u001b[0m\u001b[0mdata\u001b[0m\u001b[0;34m)\u001b[0m\u001b[0;34m\u001b[0m\u001b[0;34m\u001b[0m\u001b[0m\n\u001b[0;32m---> 24\u001b[0;31m   \u001b[0mprint\u001b[0m\u001b[0;34m(\u001b[0m\u001b[0mresponse\u001b[0m\u001b[0;34m.\u001b[0m\u001b[0mjson\u001b[0m\u001b[0;34m(\u001b[0m\u001b[0;34m)\u001b[0m\u001b[0;34m)\u001b[0m\u001b[0;34m\u001b[0m\u001b[0;34m\u001b[0m\u001b[0m\n\u001b[0m\u001b[1;32m     25\u001b[0m \u001b[0;34m\u001b[0m\u001b[0m\n\u001b[1;32m     26\u001b[0m \u001b[0;31m# Example usage\u001b[0m\u001b[0;34m\u001b[0m\u001b[0;34m\u001b[0m\u001b[0m\n",
            "\u001b[0;32m/usr/local/lib/python3.10/dist-packages/requests/models.py\u001b[0m in \u001b[0;36mjson\u001b[0;34m(self, **kwargs)\u001b[0m\n\u001b[1;32m    976\u001b[0m             \u001b[0;31m# Catch JSON-related errors and raise as requests.JSONDecodeError\u001b[0m\u001b[0;34m\u001b[0m\u001b[0;34m\u001b[0m\u001b[0m\n\u001b[1;32m    977\u001b[0m             \u001b[0;31m# This aliases json.JSONDecodeError and simplejson.JSONDecodeError\u001b[0m\u001b[0;34m\u001b[0m\u001b[0;34m\u001b[0m\u001b[0m\n\u001b[0;32m--> 978\u001b[0;31m             \u001b[0;32mraise\u001b[0m \u001b[0mRequestsJSONDecodeError\u001b[0m\u001b[0;34m(\u001b[0m\u001b[0me\u001b[0m\u001b[0;34m.\u001b[0m\u001b[0mmsg\u001b[0m\u001b[0;34m,\u001b[0m \u001b[0me\u001b[0m\u001b[0;34m.\u001b[0m\u001b[0mdoc\u001b[0m\u001b[0;34m,\u001b[0m \u001b[0me\u001b[0m\u001b[0;34m.\u001b[0m\u001b[0mpos\u001b[0m\u001b[0;34m)\u001b[0m\u001b[0;34m\u001b[0m\u001b[0;34m\u001b[0m\u001b[0m\n\u001b[0m\u001b[1;32m    979\u001b[0m \u001b[0;34m\u001b[0m\u001b[0m\n\u001b[1;32m    980\u001b[0m     \u001b[0;34m@\u001b[0m\u001b[0mproperty\u001b[0m\u001b[0;34m\u001b[0m\u001b[0;34m\u001b[0m\u001b[0m\n",
            "\u001b[0;31mJSONDecodeError\u001b[0m: Expecting value: line 1 column 1 (char 0)"
          ]
        }
      ]
    },
    {
      "cell_type": "code",
      "source": [],
      "metadata": {
        "id": "29XelFn0DUvu"
      },
      "execution_count": null,
      "outputs": []
    }
  ]
}